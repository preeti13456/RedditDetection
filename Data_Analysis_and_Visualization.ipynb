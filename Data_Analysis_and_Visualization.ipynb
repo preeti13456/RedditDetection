{
  "nbformat": 4,
  "nbformat_minor": 0,
  "metadata": {
    "colab": {
      "name": "Data Analysis and Visualization.ipynb",
      "provenance": [],
      "authorship_tag": "ABX9TyOXykWhlZp9oTmI3eKwaIEn",
      "include_colab_link": true
    },
    "kernelspec": {
      "name": "python3",
      "display_name": "Python 3"
    }
  },
  "cells": [
    {
      "cell_type": "markdown",
      "metadata": {
        "id": "view-in-github",
        "colab_type": "text"
      },
      "source": [
        "<a href=\"https://colab.research.google.com/github/preeti13456/RedditDetection/blob/main/Data_Analysis_and_Visualization.ipynb\" target=\"_parent\"><img src=\"https://colab.research.google.com/assets/colab-badge.svg\" alt=\"Open In Colab\"/></a>"
      ]
    },
    {
      "cell_type": "code",
      "metadata": {
        "id": "fOqkBN3Z4Mo7"
      },
      "source": [
        "import matplotlib.pyplot as plt\n",
        "import pandas as pd\n",
        "import seaborn as sns\n",
        "import numpy as np\n"
      ],
      "execution_count": 1,
      "outputs": []
    },
    {
      "cell_type": "code",
      "metadata": {
        "id": "5CQUhW9p4V1H"
      },
      "source": [
        "df = pd.read_csv('/content/covid patient.csv')"
      ],
      "execution_count": 2,
      "outputs": []
    },
    {
      "cell_type": "code",
      "metadata": {
        "colab": {
          "base_uri": "https://localhost:8080/",
          "height": 343
        },
        "id": "9ng0DpNr4myy",
        "outputId": "1a9dde89-b808-4761-9ec0-7362d95bda11"
      },
      "source": [
        "df"
      ],
      "execution_count": 3,
      "outputs": [
        {
          "output_type": "execute_result",
          "data": {
            "text/html": [
              "<div>\n",
              "<style scoped>\n",
              "    .dataframe tbody tr th:only-of-type {\n",
              "        vertical-align: middle;\n",
              "    }\n",
              "\n",
              "    .dataframe tbody tr th {\n",
              "        vertical-align: top;\n",
              "    }\n",
              "\n",
              "    .dataframe thead th {\n",
              "        text-align: right;\n",
              "    }\n",
              "</style>\n",
              "<table border=\"1\" class=\"dataframe\">\n",
              "  <thead>\n",
              "    <tr style=\"text-align: right;\">\n",
              "      <th></th>\n",
              "      <th>Date</th>\n",
              "      <th>7-day average</th>\n",
              "      <th>SDMA daily growth</th>\n",
              "      <th>TPR 7 day</th>\n",
              "    </tr>\n",
              "  </thead>\n",
              "  <tbody>\n",
              "    <tr>\n",
              "      <th>0</th>\n",
              "      <td>17/11/2020</td>\n",
              "      <td>39564</td>\n",
              "      <td>-2.20%</td>\n",
              "      <td>4.00%</td>\n",
              "    </tr>\n",
              "    <tr>\n",
              "      <th>1</th>\n",
              "      <td>18/11/2020</td>\n",
              "      <td>39148</td>\n",
              "      <td>-1.10%</td>\n",
              "      <td>4.08%</td>\n",
              "    </tr>\n",
              "    <tr>\n",
              "      <th>2</th>\n",
              "      <td>19/11/2020</td>\n",
              "      <td>39376</td>\n",
              "      <td>0.60%</td>\n",
              "      <td>4.21%</td>\n",
              "    </tr>\n",
              "    <tr>\n",
              "      <th>3</th>\n",
              "      <td>20/11/2020</td>\n",
              "      <td>39615</td>\n",
              "      <td>0.60%</td>\n",
              "      <td>4.27%</td>\n",
              "    </tr>\n",
              "    <tr>\n",
              "      <th>4</th>\n",
              "      <td>21/11/2020</td>\n",
              "      <td>40130</td>\n",
              "      <td>1.30%</td>\n",
              "      <td>4.25%</td>\n",
              "    </tr>\n",
              "    <tr>\n",
              "      <th>5</th>\n",
              "      <td>22/11/2020</td>\n",
              "      <td>42091</td>\n",
              "      <td>4.90%</td>\n",
              "      <td>4.13%</td>\n",
              "    </tr>\n",
              "    <tr>\n",
              "      <th>6</th>\n",
              "      <td>23/11/2020</td>\n",
              "      <td>43352</td>\n",
              "      <td>3.00%</td>\n",
              "      <td>4.41%</td>\n",
              "    </tr>\n",
              "    <tr>\n",
              "      <th>7</th>\n",
              "      <td>24/11/2020</td>\n",
              "      <td>44176</td>\n",
              "      <td>1.90%</td>\n",
              "      <td>4.02%</td>\n",
              "    </tr>\n",
              "    <tr>\n",
              "      <th>8</th>\n",
              "      <td>25/11/2020</td>\n",
              "      <td>44080</td>\n",
              "      <td>-0.20%</td>\n",
              "      <td>3.86%</td>\n",
              "    </tr>\n",
              "    <tr>\n",
              "      <th>9</th>\n",
              "      <td>26/11/2020</td>\n",
              "      <td>43650</td>\n",
              "      <td>-1.00%</td>\n",
              "      <td>3.96%</td>\n",
              "    </tr>\n",
              "  </tbody>\n",
              "</table>\n",
              "</div>"
            ],
            "text/plain": [
              "         Date  7-day average SDMA daily growth TPR 7 day\n",
              "0  17/11/2020          39564            -2.20%     4.00%\n",
              "1  18/11/2020          39148            -1.10%     4.08%\n",
              "2  19/11/2020          39376             0.60%     4.21%\n",
              "3  20/11/2020          39615             0.60%     4.27%\n",
              "4  21/11/2020          40130             1.30%     4.25%\n",
              "5  22/11/2020          42091             4.90%     4.13%\n",
              "6  23/11/2020          43352             3.00%     4.41%\n",
              "7  24/11/2020          44176             1.90%     4.02%\n",
              "8  25/11/2020          44080            -0.20%     3.86%\n",
              "9  26/11/2020          43650            -1.00%     3.96%"
            ]
          },
          "metadata": {
            "tags": []
          },
          "execution_count": 3
        }
      ]
    },
    {
      "cell_type": "code",
      "metadata": {
        "colab": {
          "base_uri": "https://localhost:8080/",
          "height": 195
        },
        "id": "T_pofQ7k4n1D",
        "outputId": "ec5bba50-618f-487a-fe1d-076bb75efaec"
      },
      "source": [
        "df.head()"
      ],
      "execution_count": 4,
      "outputs": [
        {
          "output_type": "execute_result",
          "data": {
            "text/html": [
              "<div>\n",
              "<style scoped>\n",
              "    .dataframe tbody tr th:only-of-type {\n",
              "        vertical-align: middle;\n",
              "    }\n",
              "\n",
              "    .dataframe tbody tr th {\n",
              "        vertical-align: top;\n",
              "    }\n",
              "\n",
              "    .dataframe thead th {\n",
              "        text-align: right;\n",
              "    }\n",
              "</style>\n",
              "<table border=\"1\" class=\"dataframe\">\n",
              "  <thead>\n",
              "    <tr style=\"text-align: right;\">\n",
              "      <th></th>\n",
              "      <th>Date</th>\n",
              "      <th>7-day average</th>\n",
              "      <th>SDMA daily growth</th>\n",
              "      <th>TPR 7 day</th>\n",
              "    </tr>\n",
              "  </thead>\n",
              "  <tbody>\n",
              "    <tr>\n",
              "      <th>0</th>\n",
              "      <td>17/11/2020</td>\n",
              "      <td>39564</td>\n",
              "      <td>-2.20%</td>\n",
              "      <td>4.00%</td>\n",
              "    </tr>\n",
              "    <tr>\n",
              "      <th>1</th>\n",
              "      <td>18/11/2020</td>\n",
              "      <td>39148</td>\n",
              "      <td>-1.10%</td>\n",
              "      <td>4.08%</td>\n",
              "    </tr>\n",
              "    <tr>\n",
              "      <th>2</th>\n",
              "      <td>19/11/2020</td>\n",
              "      <td>39376</td>\n",
              "      <td>0.60%</td>\n",
              "      <td>4.21%</td>\n",
              "    </tr>\n",
              "    <tr>\n",
              "      <th>3</th>\n",
              "      <td>20/11/2020</td>\n",
              "      <td>39615</td>\n",
              "      <td>0.60%</td>\n",
              "      <td>4.27%</td>\n",
              "    </tr>\n",
              "    <tr>\n",
              "      <th>4</th>\n",
              "      <td>21/11/2020</td>\n",
              "      <td>40130</td>\n",
              "      <td>1.30%</td>\n",
              "      <td>4.25%</td>\n",
              "    </tr>\n",
              "  </tbody>\n",
              "</table>\n",
              "</div>"
            ],
            "text/plain": [
              "         Date  7-day average SDMA daily growth TPR 7 day\n",
              "0  17/11/2020          39564            -2.20%     4.00%\n",
              "1  18/11/2020          39148            -1.10%     4.08%\n",
              "2  19/11/2020          39376             0.60%     4.21%\n",
              "3  20/11/2020          39615             0.60%     4.27%\n",
              "4  21/11/2020          40130             1.30%     4.25%"
            ]
          },
          "metadata": {
            "tags": []
          },
          "execution_count": 4
        }
      ]
    },
    {
      "cell_type": "code",
      "metadata": {
        "colab": {
          "base_uri": "https://localhost:8080/",
          "height": 284
        },
        "id": "pDP877Fq4vrV",
        "outputId": "6d9f0bd7-93b3-4585-82ec-bd53e7ab443c"
      },
      "source": [
        "df.describe(include=[np.number])"
      ],
      "execution_count": 5,
      "outputs": [
        {
          "output_type": "execute_result",
          "data": {
            "text/html": [
              "<div>\n",
              "<style scoped>\n",
              "    .dataframe tbody tr th:only-of-type {\n",
              "        vertical-align: middle;\n",
              "    }\n",
              "\n",
              "    .dataframe tbody tr th {\n",
              "        vertical-align: top;\n",
              "    }\n",
              "\n",
              "    .dataframe thead th {\n",
              "        text-align: right;\n",
              "    }\n",
              "</style>\n",
              "<table border=\"1\" class=\"dataframe\">\n",
              "  <thead>\n",
              "    <tr style=\"text-align: right;\">\n",
              "      <th></th>\n",
              "      <th>7-day average</th>\n",
              "    </tr>\n",
              "  </thead>\n",
              "  <tbody>\n",
              "    <tr>\n",
              "      <th>count</th>\n",
              "      <td>10.000000</td>\n",
              "    </tr>\n",
              "    <tr>\n",
              "      <th>mean</th>\n",
              "      <td>41518.200000</td>\n",
              "    </tr>\n",
              "    <tr>\n",
              "      <th>std</th>\n",
              "      <td>2145.725715</td>\n",
              "    </tr>\n",
              "    <tr>\n",
              "      <th>min</th>\n",
              "      <td>39148.000000</td>\n",
              "    </tr>\n",
              "    <tr>\n",
              "      <th>25%</th>\n",
              "      <td>39576.750000</td>\n",
              "    </tr>\n",
              "    <tr>\n",
              "      <th>50%</th>\n",
              "      <td>41110.500000</td>\n",
              "    </tr>\n",
              "    <tr>\n",
              "      <th>75%</th>\n",
              "      <td>43575.500000</td>\n",
              "    </tr>\n",
              "    <tr>\n",
              "      <th>max</th>\n",
              "      <td>44176.000000</td>\n",
              "    </tr>\n",
              "  </tbody>\n",
              "</table>\n",
              "</div>"
            ],
            "text/plain": [
              "       7-day average\n",
              "count      10.000000\n",
              "mean    41518.200000\n",
              "std      2145.725715\n",
              "min     39148.000000\n",
              "25%     39576.750000\n",
              "50%     41110.500000\n",
              "75%     43575.500000\n",
              "max     44176.000000"
            ]
          },
          "metadata": {
            "tags": []
          },
          "execution_count": 5
        }
      ]
    },
    {
      "cell_type": "code",
      "metadata": {
        "id": "JjJjH9kV41nL"
      },
      "source": [
        "from pylab import rcParams\n",
        "rcParams['figure.figsize'] = 15, 5"
      ],
      "execution_count": 6,
      "outputs": []
    },
    {
      "cell_type": "code",
      "metadata": {
        "colab": {
          "base_uri": "https://localhost:8080/",
          "height": 337
        },
        "id": "XMg0uyVp46xh",
        "outputId": "50d6f859-09ed-4724-b333-a22b181f8023"
      },
      "source": [
        "df.boxplot(column='7-day average')\n",
        "plt.grid(True, axis='y')\n",
        "plt.ylabel('7-day average')\n",
        "plt.xticks([1], ['Runners'])"
      ],
      "execution_count": 8,
      "outputs": [
        {
          "output_type": "execute_result",
          "data": {
            "text/plain": [
              "([<matplotlib.axis.XTick at 0x7f81df4a00f0>], [Text(0, 0, 'Runners')])"
            ]
          },
          "metadata": {
            "tags": []
          },
          "execution_count": 8
        },
        {
          "output_type": "display_data",
          "data": {
            "image/png": "[encoded data removed]",
            "text/plain": [
              "<Figure size 1080x360 with 1 Axes>"
            ]
          },
          "metadata": {
            "tags": [],
            "needs_background": "light"
          }
        }
      ]
    },
    {
      "cell_type": "code",
      "metadata": {
        "colab": {
          "base_uri": "https://localhost:8080/",
          "height": 388
        },
        "id": "5w-NrymR5SRM",
        "outputId": "2221ead6-a818-448a-cd10-433afae09101"
      },
      "source": [
        "x = df['7-day average']\n",
        "ax = sns.distplot(x, hist=True, kde=True, rug=False, color='m', bins=25, hist_kws={'edgecolor':'black'})\n",
        "plt.show()"
      ],
      "execution_count": 12,
      "outputs": [
        {
          "output_type": "stream",
          "text": [
            "/usr/local/lib/python3.6/dist-packages/seaborn/distributions.py:2551: FutureWarning: `distplot` is a deprecated function and will be removed in a future version. Please adapt your code to use either `displot` (a figure-level function with similar flexibility) or `histplot` (an axes-level function for histograms).\n",
            "  warnings.warn(msg, FutureWarning)\n"
          ],
          "name": "stderr"
        },
        {
          "output_type": "display_data",
          "data": {
            "image/png": "[encoded data removed]",
            "text/plain": [
              "<Figure size 1080x360 with 1 Axes>"
            ]
          },
          "metadata": {
            "tags": [],
            "needs_background": "light"
          }
        }
      ]
    },
    {
      "cell_type": "code",
      "metadata": {
        "colab": {
          "base_uri": "https://localhost:8080/",
          "height": 472
        },
        "id": "hKHrI4We5kgc",
        "outputId": "dd47b18a-3c0e-4c8b-eb59-3a39078a33f4"
      },
      "source": [
        "f_fuko = df.loc[df['SDMA daily growth']=='0.60%']['7-day average']\n",
        "m_fuko = df.loc[df['SDMA daily growth']=='-1.10%']['7-day average']\n",
        "sns.distplot(f_fuko, hist=True, kde=True, rug=False, hist_kws={'edgecolor':'black'}, label='Female')\n",
        "sns.distplot(m_fuko, hist=False, kde=True, rug=False, hist_kws={'edgecolor':'black'}, label='Male')\n",
        "plt.legend()"
      ],
      "execution_count": 19,
      "outputs": [
        {
          "output_type": "stream",
          "text": [
            "/usr/local/lib/python3.6/dist-packages/seaborn/distributions.py:2551: FutureWarning: `distplot` is a deprecated function and will be removed in a future version. Please adapt your code to use either `displot` (a figure-level function with similar flexibility) or `histplot` (an axes-level function for histograms).\n",
            "  warnings.warn(msg, FutureWarning)\n",
            "/usr/local/lib/python3.6/dist-packages/seaborn/distributions.py:2551: FutureWarning: `distplot` is a deprecated function and will be removed in a future version. Please adapt your code to use either `displot` (a figure-level function with similar flexibility) or `kdeplot` (an axes-level function for kernel density plots).\n",
            "  warnings.warn(msg, FutureWarning)\n",
            "/usr/local/lib/python3.6/dist-packages/seaborn/distributions.py:305: UserWarning: Dataset has 0 variance; skipping density estimate.\n",
            "  warnings.warn(msg, UserWarning)\n"
          ],
          "name": "stderr"
        },
        {
          "output_type": "execute_result",
          "data": {
            "text/plain": [
              "<matplotlib.legend.Legend at 0x7f81d5d6fda0>"
            ]
          },
          "metadata": {
            "tags": []
          },
          "execution_count": 19
        },
        {
          "output_type": "display_data",
          "data": {
            "image/png": "[encoded data removed]",
            "text/plain": [
              "<Figure size 1080x360 with 1 Axes>"
            ]
          },
          "metadata": {
            "tags": [],
            "needs_background": "light"
          }
        }
      ]
    },
    {
      "cell_type": "code",
      "metadata": {
        "colab": {
          "base_uri": "https://localhost:8080/",
          "height": 506
        },
        "id": "rU5mwr5o6Clq",
        "outputId": "0e1b5acd-d7fa-4d3c-bfb7-817507fbc157"
      },
      "source": [
        "f_fuko = df.loc[df['TPR 7 day']=='4.27%']['7-day average']\n",
        "m_fuko = df.loc[df['TPR 7 day']=='4.08%']['7-day average']\n",
        "sns.distplot(f_fuko, hist=True, kde=True, rug=False, hist_kws={'edgecolor':'black'}, label='Female')\n",
        "sns.distplot(m_fuko, hist=False, kde=True, rug=False, hist_kws={'edgecolor':'black'}, label='Male')\n",
        "plt.legend()"
      ],
      "execution_count": 20,
      "outputs": [
        {
          "output_type": "stream",
          "text": [
            "/usr/local/lib/python3.6/dist-packages/seaborn/distributions.py:2551: FutureWarning: `distplot` is a deprecated function and will be removed in a future version. Please adapt your code to use either `displot` (a figure-level function with similar flexibility) or `histplot` (an axes-level function for histograms).\n",
            "  warnings.warn(msg, FutureWarning)\n",
            "/usr/local/lib/python3.6/dist-packages/seaborn/distributions.py:305: UserWarning: Dataset has 0 variance; skipping density estimate.\n",
            "  warnings.warn(msg, UserWarning)\n",
            "/usr/local/lib/python3.6/dist-packages/seaborn/distributions.py:2551: FutureWarning: `distplot` is a deprecated function and will be removed in a future version. Please adapt your code to use either `displot` (a figure-level function with similar flexibility) or `kdeplot` (an axes-level function for kernel density plots).\n",
            "  warnings.warn(msg, FutureWarning)\n",
            "/usr/local/lib/python3.6/dist-packages/seaborn/distributions.py:305: UserWarning: Dataset has 0 variance; skipping density estimate.\n",
            "  warnings.warn(msg, UserWarning)\n"
          ],
          "name": "stderr"
        },
        {
          "output_type": "execute_result",
          "data": {
            "text/plain": [
              "<matplotlib.legend.Legend at 0x7f81d5d108d0>"
            ]
          },
          "metadata": {
            "tags": []
          },
          "execution_count": 20
        },
        {
          "output_type": "display_data",
          "data": {
            "image/png": "[encoded data removed]",
            "text/plain": [
              "<Figure size 1080x360 with 1 Axes>"
            ]
          },
          "metadata": {
            "tags": [],
            "needs_background": "light"
          }
        }
      ]
    },
    {
      "cell_type": "code",
      "metadata": {
        "colab": {
          "base_uri": "https://localhost:8080/"
        },
        "id": "eQckycnx7GEi",
        "outputId": "9534cdf1-9d23-4a16-a8a1-c718b03e71f8"
      },
      "source": [
        "g_stats = df.groupby(\"SDMA daily growth\", as_index=True).describe()\n",
        "print(g_stats)"
      ],
      "execution_count": 21,
      "outputs": [
        {
          "output_type": "stream",
          "text": [
            "                  7-day average           ...                   \n",
            "                          count     mean  ...       75%      max\n",
            "SDMA daily growth                         ...                   \n",
            "-0.20%                      1.0  44080.0  ...  44080.00  44080.0\n",
            "-1.00%                      1.0  43650.0  ...  43650.00  43650.0\n",
            "-1.10%                      1.0  39148.0  ...  39148.00  39148.0\n",
            "-2.20%                      1.0  39564.0  ...  39564.00  39564.0\n",
            "0.60%                       2.0  39495.5  ...  39555.25  39615.0\n",
            "1.30%                       1.0  40130.0  ...  40130.00  40130.0\n",
            "1.90%                       1.0  44176.0  ...  44176.00  44176.0\n",
            "3.00%                       1.0  43352.0  ...  43352.00  43352.0\n",
            "4.90%                       1.0  42091.0  ...  42091.00  42091.0\n",
            "\n",
            "[9 rows x 8 columns]\n"
          ],
          "name": "stdout"
        }
      ]
    },
    {
      "cell_type": "code",
      "metadata": {
        "colab": {
          "base_uri": "https://localhost:8080/"
        },
        "id": "zX47utUw7Qf6",
        "outputId": "d393009d-0e8c-4ce8-81d6-39ba532d731d"
      },
      "source": [
        "g_stats = df.groupby(\"TPR 7 day\", as_index=True).describe()\n",
        "print(g_stats)"
      ],
      "execution_count": 22,
      "outputs": [
        {
          "output_type": "stream",
          "text": [
            "          7-day average               ...                           \n",
            "                  count     mean std  ...      50%      75%      max\n",
            "TPR 7 day                             ...                           \n",
            "3.86%               1.0  44080.0 NaN  ...  44080.0  44080.0  44080.0\n",
            "3.96%               1.0  43650.0 NaN  ...  43650.0  43650.0  43650.0\n",
            "4.00%               1.0  39564.0 NaN  ...  39564.0  39564.0  39564.0\n",
            "4.02%               1.0  44176.0 NaN  ...  44176.0  44176.0  44176.0\n",
            "4.08%               1.0  39148.0 NaN  ...  39148.0  39148.0  39148.0\n",
            "4.13%               1.0  42091.0 NaN  ...  42091.0  42091.0  42091.0\n",
            "4.21%               1.0  39376.0 NaN  ...  39376.0  39376.0  39376.0\n",
            "4.25%               1.0  40130.0 NaN  ...  40130.0  40130.0  40130.0\n",
            "4.27%               1.0  39615.0 NaN  ...  39615.0  39615.0  39615.0\n",
            "4.41%               1.0  43352.0 NaN  ...  43352.0  43352.0  43352.0\n",
            "\n",
            "[10 rows x 8 columns]\n"
          ],
          "name": "stdout"
        }
      ]
    },
    {
      "cell_type": "code",
      "metadata": {
        "colab": {
          "base_uri": "https://localhost:8080/",
          "height": 365
        },
        "id": "zF5O_zKr7Xdl",
        "outputId": "2142017c-7ca1-472e-8780-8f82166e2515"
      },
      "source": [
        "df.boxplot(column='7-day average', by='SDMA daily growth')\n",
        "plt.ylabel('Variation')\n",
        "plt.suptitle(\"\")"
      ],
      "execution_count": 23,
      "outputs": [
        {
          "output_type": "execute_result",
          "data": {
            "text/plain": [
              "Text(0.5, 0.98, '')"
            ]
          },
          "metadata": {
            "tags": []
          },
          "execution_count": 23
        },
        {
          "output_type": "display_data",
          "data": {
            "image/png": "[encoded data removed]",
            "text/plain": [
              "<Figure size 1080x360 with 1 Axes>"
            ]
          },
          "metadata": {
            "tags": [],
            "needs_background": "light"
          }
        }
      ]
    },
    {
      "cell_type": "code",
      "metadata": {
        "colab": {
          "base_uri": "https://localhost:8080/",
          "height": 365
        },
        "id": "b3cKbG7o7sf_",
        "outputId": "fb7ebac9-6e41-4592-cef0-a1bf6b41b8b5"
      },
      "source": [
        "df.boxplot(column='7-day average', by='TPR 7 day')\n",
        "plt.ylabel('Variation')\n",
        "plt.suptitle(\"\")"
      ],
      "execution_count": 24,
      "outputs": [
        {
          "output_type": "execute_result",
          "data": {
            "text/plain": [
              "Text(0.5, 0.98, '')"
            ]
          },
          "metadata": {
            "tags": []
          },
          "execution_count": 24
        },
        {
          "output_type": "display_data",
          "data": {
            "image/png": "[encoded data removed]",
            "text/plain": [
              "<Figure size 1080x360 with 1 Axes>"
            ]
          },
          "metadata": {
            "tags": [],
            "needs_background": "light"
          }
        }
      ]
    },
    {
      "cell_type": "code",
      "metadata": {
        "id": "Dz31jrZe7zUN"
      },
      "source": [
        ""
      ],
      "execution_count": null,
      "outputs": []
    }
  ]
}