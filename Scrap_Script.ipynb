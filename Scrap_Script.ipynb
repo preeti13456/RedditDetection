{
  "nbformat": 4,
  "nbformat_minor": 0,
  "metadata": {
    "colab": {
      "name": "Scrap_Script.ipynb",
      "provenance": [],
      "collapsed_sections": [],
      "authorship_tag": "ABX9TyO2T+Q0M/fMWJ28SiOQ5eFE",
      "include_colab_link": true
    },
    "kernelspec": {
      "name": "python3",
      "display_name": "Python 3"
    }
  },
  "cells": [
    {
      "cell_type": "markdown",
      "metadata": {
        "id": "view-in-github",
        "colab_type": "text"
      },
      "source": [
        "<a href=\"https://colab.research.google.com/github/preeti13456/RedditDetection/blob/main/Scrap_Script.ipynb\" target=\"_parent\"><img src=\"https://colab.research.google.com/assets/colab-badge.svg\" alt=\"Open In Colab\"/></a>"
      ]
    },
    {
      "cell_type": "code",
      "metadata": {
        "colab": {
          "base_uri": "https://localhost:8080/"
        },
        "id": "7KuzTXOMlKvM",
        "outputId": "0bf09ccf-e13d-4889-f677-963848d32e5d"
      },
      "source": [
        "!pip install requests\n",
        "!pip install beautifulsoup4"
      ],
      "execution_count": 1,
      "outputs": [
        {
          "output_type": "stream",
          "text": [
            "Requirement already satisfied: requests in /usr/local/lib/python3.6/dist-packages (2.23.0)\n",
            "Requirement already satisfied: urllib3!=1.25.0,!=1.25.1,<1.26,>=1.21.1 in /usr/local/lib/python3.6/dist-packages (from requests) (1.24.3)\n",
            "Requirement already satisfied: idna<3,>=2.5 in /usr/local/lib/python3.6/dist-packages (from requests) (2.10)\n",
            "Requirement already satisfied: chardet<4,>=3.0.2 in /usr/local/lib/python3.6/dist-packages (from requests) (3.0.4)\n",
            "Requirement already satisfied: certifi>=2017.4.17 in /usr/local/lib/python3.6/dist-packages (from requests) (2020.11.8)\n",
            "Requirement already satisfied: beautifulsoup4 in /usr/local/lib/python3.6/dist-packages (4.6.3)\n"
          ],
          "name": "stdout"
        }
      ]
    },
    {
      "cell_type": "code",
      "metadata": {
        "id": "Qz70CRnLlW9i"
      },
      "source": [
        "import pandas as pd\n",
        "import numpy as np\n",
        "import requests\n",
        "from bs4 import BeautifulSoup\n",
        "import matplotlib.pyplot as plt\n",
        "import seaborn as sns\n",
        "%matplotlib inline"
      ],
      "execution_count": 2,
      "outputs": []
    },
    {
      "cell_type": "code",
      "metadata": {
        "id": "1NGXAGKPD07x"
      },
      "source": [
        "from urllib.request import urlopen\n",
        "from bs4 import BeautifulSoup"
      ],
      "execution_count": 3,
      "outputs": []
    },
    {
      "cell_type": "code",
      "metadata": {
        "id": "_aDrqc5jli6t",
        "colab": {
          "base_uri": "https://localhost:8080/"
        },
        "outputId": "23cdc878-087a-4d51-ae73-899f6d8a7286"
      },
      "source": [
        "url='https://www.reddit.com/r/india/comments/jj8aog/coronavirus_covid19_megathread_news_and_updates_7/'\n",
        "html = urlopen(url)\n",
        "#website_url=requests.get(website).text\n",
        "#soup = BeautifulSoup(website_url,'html.parser')\n",
        "soup = BeautifulSoup(html, 'lxml')\n",
        "type(soup)"
      ],
      "execution_count": 4,
      "outputs": [
        {
          "output_type": "execute_result",
          "data": {
            "text/plain": [
              "bs4.BeautifulSoup"
            ]
          },
          "metadata": {
            "tags": []
          },
          "execution_count": 4
        }
      ]
    },
    {
      "cell_type": "code",
      "metadata": {
        "id": "TXEuA44LmDAf",
        "colab": {
          "base_uri": "https://localhost:8080/"
        },
        "outputId": "dff640bd-d0ce-4f35-b5ba-d0b586826bcd"
      },
      "source": [
        "#my_table = soup.find_all('thead')\n",
        "title = soup.title\n",
        "print(title)\n"
      ],
      "execution_count": 6,
      "outputs": [
        {
          "output_type": "stream",
          "text": [
            "<title>Coronavirus (COVID-19) Megathread - News and Updates - 7 : india</title>\n"
          ],
          "name": "stdout"
        }
      ]
    },
    {
      "cell_type": "code",
      "metadata": {
        "id": "EeOiXzgbEQ-w"
      },
      "source": [
        "text = soup.get_text()"
      ],
      "execution_count": 7,
      "outputs": []
    },
    {
      "cell_type": "code",
      "metadata": {
        "id": "p-DN3JlGmPS-",
        "colab": {
          "base_uri": "https://localhost:8080/"
        },
        "outputId": "6726b0b6-9aef-43c2-b79c-d82119784060"
      },
      "source": [
        "soup.find_all('a')"
      ],
      "execution_count": 8,
      "outputs": [
        {
          "output_type": "execute_result",
          "data": {
            "text/plain": [
              "[<a aria-label=\"Home\" class=\"_30BbATRhFv3V83DHNDjJAO\" href=\"/\"><svg class=\"_1O4jTk-dZ-VIxsCuYB6OR8\" viewbox=\"0 0 20 20\" xmlns=\"http://www.w3.org/2000/svg\"><g><circle cx=\"10\" cy=\"10\" fill=\"#FF4500\" r=\"10\"></circle><path d=\"M16.67,10A1.46,1.46,0,0,0,14.2,9a7.12,7.12,0,0,0-3.85-1.23L11,4.65,13.14,5.1a1,1,0,1,0,.13-0.61L10.82,4a0.31,0.31,0,0,0-.37.24L9.71,7.71a7.14,7.14,0,0,0-3.9,1.23A1.46,1.46,0,1,0,4.2,11.33a2.87,2.87,0,0,0,0,.44c0,2.24,2.61,4.06,5.83,4.06s5.83-1.82,5.83-4.06a2.87,2.87,0,0,0,0-.44A1.46,1.46,0,0,0,16.67,10Zm-10,1a1,1,0,1,1,1,1A1,1,0,0,1,6.67,11Zm5.81,2.75a3.84,3.84,0,0,1-2.47.77,3.84,3.84,0,0,1-2.47-.77,0.27,0.27,0,0,1,.38-0.38A3.27,3.27,0,0,0,10,14a3.28,3.28,0,0,0,2.09-.61A0.27,0.27,0,1,1,12.48,13.79Zm-0.18-1.71a1,1,0,1,1,1-1A1,1,0,0,1,12.29,12.08Z\" fill=\"#FFF\"></path></g></svg><svg class=\"_1bWuGs_1sq4Pqy099x_yy-\" viewbox=\"0 0 57 18\" xmlns=\"http://www.w3.org/2000/svg\"><g fill=\"#1c1c1c\"><path d=\"M54.63,16.52V7.68h1a1,1,0,0,0,1.09-1V6.65a1,1,0,0,0-.93-1.12H54.63V3.88a1.23,1.23,0,0,0-1.12-1.23,1.2,1.2,0,0,0-1.27,1.11V5.55h-1a1,1,0,0,0-1.09,1v.07a1,1,0,0,0,.93,1.12h1.13v8.81a1.19,1.19,0,0,0,1.19,1.19h0a1.19,1.19,0,0,0,1.25-1.12A.17.17,0,0,0,54.63,16.52Z\"></path><circle cx=\"47.26\" cy=\"3.44\" fill=\"#FF4500\" r=\"2.12\"></circle><path d=\"M48.44,7.81a1.19,1.19,0,1,0-2.38,0h0v8.71a1.19,1.19,0,0,0,2.38,0Z\"></path><path d=\"M30.84,1.19A1.19,1.19,0,0,0,29.65,0h0a1.19,1.19,0,0,0-1.19,1.19V6.51a4.11,4.11,0,0,0-3-1.21c-3.1,0-5.69,2.85-5.69,6.35S22.28,18,25.42,18a4.26,4.26,0,0,0,3.1-1.23,1.17,1.17,0,0,0,1.47.8,1.2,1.2,0,0,0,.85-1.05ZM25.41,15.64c-1.83,0-3.32-1.77-3.32-4s1.48-4,3.32-4,3.31,1.78,3.31,4-1.47,3.95-3.3,3.95Z\"></path><path d=\"M43.28,1.19A1.19,1.19,0,0,0,42.09,0h0a1.18,1.18,0,0,0-1.18,1.19h0V6.51a4.15,4.15,0,0,0-3-1.21c-3.1,0-5.69,2.85-5.69,6.35S34.72,18,37.86,18A4.26,4.26,0,0,0,41,16.77a1.17,1.17,0,0,0,1.47.8,1.19,1.19,0,0,0,.85-1.05ZM37.85,15.64c-1.83,0-3.31-1.77-3.31-4s1.47-4,3.31-4,3.31,1.78,3.31,4-1.47,3.95-3.3,3.95Z\"></path><path d=\"M17.27,12.44a1.49,1.49,0,0,0,1.59-1.38v-.15a4.81,4.81,0,0,0-.1-.85A5.83,5.83,0,0,0,13.25,5.3c-3.1,0-5.69,2.85-5.69,6.35S10.11,18,13.25,18a5.66,5.66,0,0,0,4.39-1.84,1.23,1.23,0,0,0-.08-1.74l-.11-.09a1.29,1.29,0,0,0-1.58.17,3.91,3.91,0,0,1-2.62,1.12A3.54,3.54,0,0,1,10,12.44h7.27Zm-4-4.76a3.41,3.41,0,0,1,3.09,2.64H10.14A3.41,3.41,0,0,1,13.24,7.68Z\"></path><path d=\"M7.68,6.53a1.19,1.19,0,0,0-1-1.18A4.56,4.56,0,0,0,2.39,6.91V6.75A1.2,1.2,0,0,0,0,6.75v9.77a1.23,1.23,0,0,0,1.12,1.24,1.19,1.19,0,0,0,1.26-1.1.66.66,0,0,0,0-.14v-5A3.62,3.62,0,0,1,5.81,7.7a4.87,4.87,0,0,1,.54,0h.24A1.18,1.18,0,0,0,7.68,6.53Z\"></path></g></svg></a>,\n",
              " <a class=\"_3Wg53T10KuuPmyWOMWsY2F _1HunhFR-0b-AYs0WG9mU_P _2nelDm85zKKmuD94NequP0\" href=\"https://www.reddit.com/login/?dest=https%3A%2F%2Fwww.reddit.com%2Fr%2Findia%2Fcomments%2Fjj8aog%2Fcoronavirus_covid19_megathread_news_and_updates_7%2F\" role=\"button\" tabindex=\"0\">Log In</a>,\n",
              " <a class=\"Z_HUY3BUsGOBOtdmH94ZS _3Wg53T10KuuPmyWOMWsY2F wLV79_wV-ziNiWmf3Y7OV _2nelDm85zKKmuD94NequP0\" href=\"https://www.reddit.com/register/?dest=https%3A%2F%2Fwww.reddit.com%2Fr%2Findia%2Fcomments%2Fjj8aog%2Fcoronavirus_covid19_megathread_news_and_updates_7%2F\" role=\"button\" tabindex=\"0\">Sign Up</a>,\n",
              " <a href=\"/r/india/search?q=flair_name%3A%22Coronavirus%22&amp;restrict_sr=1\"><div class=\"_2X6EB3ZhEeXCh1eIVA64XM _2hSecp_zkPm_s5ddV2htoj \" style=\"background-color:#EDEFF1;color:#1A1A1B\"><span>Coronavirus</span></div></a>,\n",
              " <a class=\"_3jOxDPIQ0KaOWpzvSQo-1s\" data-click-id=\"timestamp\" href=\"https://www.reddit.com/r/india/comments/jj8aog/coronavirus_covid19_megathread_news_and_updates_7/\" rel=\"nofollow noopener noreferrer\" style=\"color:#787C7E\" target=\"_blank\">1 month ago</a>,\n",
              " <a href=\"/r/india/search?q=flair_name%3A%22Coronavirus%22&amp;restrict_sr=1\"><div class=\"_2X6EB3ZhEeXCh1eIVA64XM _2hSecp_zkPm_s5ddV2htoj \" style=\"background-color:#EDEFF1;color:#1A1A1B\"><span>Coronavirus</span></div></a>,\n",
              " <a class=\"_3t5uN8xUmg0TOwRCOGQEcU\" href=\"https://amnesty.org.in/support-indias-most-vulnerable-fight-covid-19-a-list-of-fundraisers-you-can-donate-to/\" rel=\"noopener nofollow ugc\" target=\"_blank\">Covid-19 Fundraisers &amp; Donation Links</a>,\n",
              " <a class=\"_3t5uN8xUmg0TOwRCOGQEcU\" href=\"https://amnesty.org.in/support-indias-most-vulnerable-fight-covid-19-a-list-of-fundraisers-you-can-donate-to/\" rel=\"noopener nofollow ugc\" target=\"_blank\">This link covers</a>,\n",
              " <a class=\"_3t5uN8xUmg0TOwRCOGQEcU\" href=\"https://twitter.com/i/events/1240662046280048646\" rel=\"noopener nofollow ugc\" target=\"_blank\">Official Twitter Collection of Indian Govt. Communications</a>,\n",
              " <a class=\"_3t5uN8xUmg0TOwRCOGQEcU\" href=\"https://www.mohfw.gov.in/pdf/DistrictWiseList324.pdf\" rel=\"noopener nofollow ugc\" target=\"_blank\">State and District Wise Details of Cases in India</a>,\n",
              " <a class=\"_3t5uN8xUmg0TOwRCOGQEcU\" href=\"mailto:ncov2019@gov.in\" rel=\"noopener nofollow ugc\" target=\"_blank\">ncov2019@gov.in</a>,\n",
              " <a class=\"_3t5uN8xUmg0TOwRCOGQEcU\" href=\"https://www.mohfw.gov.in/pdf/coronvavirushelplinenumber.pdf\" rel=\"noopener nofollow ugc\" target=\"_blank\">State Helpline Numbers</a>,\n",
              " <a class=\"_3t5uN8xUmg0TOwRCOGQEcU\" href=\"https://covid.icmr.org.in/index.php/testing-facilities\" rel=\"noopener nofollow ugc\" target=\"_blank\">Test Centers List</a>,\n",
              " <a class=\"_3t5uN8xUmg0TOwRCOGQEcU\" href=\"/r/India/\" rel=\"noopener nofollow ugc\" target=\"_blank\">r/India</a>,\n",
              " <a class=\"_3t5uN8xUmg0TOwRCOGQEcU\" href=\"https://www.covid19india.org/\" rel=\"noopener nofollow ugc\" target=\"_blank\">COVID-19 India tracker</a>,\n",
              " <a class=\"_3t5uN8xUmg0TOwRCOGQEcU\" href=\"/u/splitladoo/\" rel=\"noopener nofollow ugc\" target=\"_blank\">u/splitladoo</a>,\n",
              " <a class=\"_3t5uN8xUmg0TOwRCOGQEcU\" href=\"https://covidindiasupport.com/main\" rel=\"noopener nofollow ugc\" target=\"_blank\">Crowdsourced handbook of India specific data and resources</a>,\n",
              " <a class=\"_3t5uN8xUmg0TOwRCOGQEcU\" href=\"/u/lilhuman0/\" rel=\"noopener nofollow ugc\" target=\"_blank\">u/lilhuman0</a>,\n",
              " <a class=\"_3t5uN8xUmg0TOwRCOGQEcU\" href=\"https://docs.google.com/spreadsheets/d/1uKqaxMd5gkghBKMmp_fbnLRFLdic_Kv-i_802f77Ih0/edit#gid=0\" rel=\"noopener nofollow ugc\" target=\"_blank\">Google Spreadsheet of Statewise infections</a>,\n",
              " <a class=\"_3t5uN8xUmg0TOwRCOGQEcU\" href=\"/u/lord_blood_raven/\" rel=\"noopener nofollow ugc\" target=\"_blank\">/u/lord_blood_raven</a>,\n",
              " <a class=\"_3t5uN8xUmg0TOwRCOGQEcU\" href=\"https://www.nytimes.com/interactive/2020/science/coronavirus-vaccine-tracker.html\" rel=\"noopener nofollow ugc\" target=\"_blank\">Coronavirus Vaccine Tracker</a>,\n",
              " <a class=\"_3t5uN8xUmg0TOwRCOGQEcU\" href=\"https://www.mohfw.gov.in/\" rel=\"noopener nofollow ugc\" target=\"_blank\">Case Numbers via Indian Govt.</a>,\n",
              " <a class=\"_3t5uN8xUmg0TOwRCOGQEcU\" href=\"https://www.covid19india.org\" rel=\"noopener nofollow ugc\" target=\"_blank\">Covid19India.org</a>,\n",
              " <a class=\"_3t5uN8xUmg0TOwRCOGQEcU\" href=\"/r/Coronavirus/\" rel=\"noopener nofollow ugc\" target=\"_blank\">r/Coronavirus</a>,\n",
              " <a class=\"_3t5uN8xUmg0TOwRCOGQEcU\" href=\"/r/COVID19Positive/\" rel=\"noopener nofollow ugc\" target=\"_blank\">r/COVID19Positive</a>,\n",
              " <a class=\"_3t5uN8xUmg0TOwRCOGQEcU\" href=\"https://www.who.int/emergencies/diseases/novel-coronavirus-2019/advice-for-public\" rel=\"noopener nofollow ugc\" target=\"_blank\">Safety Tips</a>,\n",
              " <a class=\"_3t5uN8xUmg0TOwRCOGQEcU\" href=\"https://www.who.int/health-topics/coronavirus\" rel=\"noopener nofollow ugc\" target=\"_blank\">Coronavirus condition overview</a>,\n",
              " <a class=\"_3t5uN8xUmg0TOwRCOGQEcU\" href=\"https://www.who.int/news-room/q-a-detail/q-a-coronaviruses\" rel=\"noopener nofollow ugc\" target=\"_blank\">Coronavirus Q&amp;A</a>,\n",
              " <a class=\"_3t5uN8xUmg0TOwRCOGQEcU\" href=\"https://www.nytimes.com/article/prepare-for-coronavirus.html\" rel=\"noopener nofollow ugc\" target=\"_blank\">How to Protect Yourself and Prepare for the Coronavirus</a>,\n",
              " <a class=\"_3t5uN8xUmg0TOwRCOGQEcU\" href=\"https://www.who.int/emergencies/diseases/novel-coronavirus-2019/advice-for-public/myth-busters\" rel=\"noopener nofollow ugc\" target=\"_blank\">Myth Busters via WHO</a>,\n",
              " <a class=\"_3t5uN8xUmg0TOwRCOGQEcU\" href=\"https://coronavirus.heallify.com/\" rel=\"noopener nofollow ugc\" target=\"_blank\">Self Assessment Tool for Covid19</a>,\n",
              " <a class=\"_3t5uN8xUmg0TOwRCOGQEcU\" href=\"https://www.nytimes.com/article/quarantine-coronavirus.html\" rel=\"noopener nofollow ugc\" target=\"_blank\">How to Quarantine Yourself</a>,\n",
              " <a class=\"_3t5uN8xUmg0TOwRCOGQEcU\" href=\"/r/pcmasterrace/\" rel=\"noopener nofollow ugc\" target=\"_blank\">r/pcmasterrace</a>,\n",
              " <a class=\"_3t5uN8xUmg0TOwRCOGQEcU\" href=\"https://foldingathome.org/start-folding/\" rel=\"noopener nofollow ugc\" target=\"_blank\">CLICK HERE</a>,\n",
              " <a class=\"_3t5uN8xUmg0TOwRCOGQEcU\" href=\"https://pcmasterrace.org/folding\" rel=\"noopener nofollow ugc\" target=\"_blank\">https://pcmasterrace.org/folding</a>,\n",
              " <a class=\"_3t5uN8xUmg0TOwRCOGQEcU\" href=\"https://www.reddit.com/r/india/comments/f2kaxr/covid19_megathread_news_and_updates/\" rel=\"noopener nofollow ugc\" target=\"_blank\">Part 1</a>,\n",
              " <a class=\"_3t5uN8xUmg0TOwRCOGQEcU\" href=\"https://www.reddit.com/r/india/comments/fkttm7/coronavirus_covid19_megathread_news_and_updates_ii/\" rel=\"noopener nofollow ugc\" target=\"_blank\">Part 2</a>,\n",
              " <a class=\"_3t5uN8xUmg0TOwRCOGQEcU\" href=\"https://www.reddit.com/r/india/comments/fqqdsg/coronavirus_covid19_megathread_news_and_updates_3/\" rel=\"noopener nofollow ugc\" target=\"_blank\">Part 3</a>,\n",
              " <a class=\"_3t5uN8xUmg0TOwRCOGQEcU\" href=\"https://www.reddit.com/r/india/comments/g1zi21/coronavirus_covid19_megathread_news_and_updates_4/\" rel=\"noopener nofollow ugc\" target=\"_blank\">Part 4</a>,\n",
              " <a class=\"_3t5uN8xUmg0TOwRCOGQEcU\" href=\"https://www.reddit.com/r/india/comments/gmbriq/coronavirus_covid19_megathread_news_and_updates_5/\" rel=\"noopener nofollow ugc\" target=\"_blank\">Part 5</a>,\n",
              " <a class=\"_3t5uN8xUmg0TOwRCOGQEcU\" href=\"https://www.reddit.com/r/india/comments/hhkrth/coronavirus_covid19_megathread_news_and_updates_6/\" rel=\"noopener nofollow ugc\" target=\"_blank\">Part 6</a>,\n",
              " <a class=\"_1UoeAeSRhOKSNdY_h3iS1O _1Hw7tY9pMr-T1F4P1C-xNU _2qww3J5KKzsD7e5DO0BvvU\" data-click-id=\"comments\" data-test-id=\"comments-page-link-num-comments\" href=\"/r/india/comments/jj8aog/coronavirus_covid19_megathread_news_and_updates_7/\" rel=\"nofollow\"><i class=\"icon icon-comment _3ch9jJ0painNf41PmU4F9i _3DVrpDrMM9NLT6TlsTUMxC\" role=\"presentation\"></i><span class=\"FHCV02u6Cp2zYL0fhQPsO\">1.0k comments</span></a>,\n",
              " <a class=\"_3fM1M9rFBqKwfG-KJLnxPY _1HunhFR-0b-AYs0WG9mU_P _2nelDm85zKKmuD94NequP0\" href=\"https://www.reddit.com/login?dest=https%3A%2F%2Fwww.reddit.com%2Fr%2Findia%2Fcomments%2Fjj8aog%2Fcoronavirus_covid19_megathread_news_and_updates_7%2F\" role=\"button\" tabindex=\"0\">Log In</a>,\n",
              " <a class=\"_1k97Y32qzGNtuVGyt73TpR wLV79_wV-ziNiWmf3Y7OV _2nelDm85zKKmuD94NequP0\" href=\"https://www.reddit.com/register?dest=https%3A%2F%2Fwww.reddit.com%2Fr%2Findia%2Fcomments%2Fjj8aog%2Fcoronavirus_covid19_megathread_news_and_updates_7%2F\" role=\"button\" tabindex=\"0\">Sign Up</a>,\n",
              " <a class=\"_1WUTKdOO96akYfbq4CK6z6\" href=\"/r/india/duplicates/jj8aog/coronavirus_covid19_megathread_news_and_updates_7/\">View discussions in 1 other community</a>,\n",
              " <a class=\"_1sA-1jNHouHDpgCp1fCQ_F\" href=\"/r/india/comments/jj8aog/coronavirus_covid19_megathread_news_and_updates_7/gab0nwl/?utm_source=reddit&amp;utm_medium=web2x&amp;context=3\" id=\"CommentTopMeta--Created--t1_gab0nwl\" rel=\"nofollow\" target=\"_blank\">1 month ago</a>,\n",
              " <a class=\"_3t5uN8xUmg0TOwRCOGQEcU\" href=\"/r/CoronavirusIndia/\" rel=\"noopener nofollow ugc\" target=\"_blank\">r/CoronavirusIndia</a>,\n",
              " <a class=\"_1sA-1jNHouHDpgCp1fCQ_F\" href=\"/r/india/comments/jj8aog/coronavirus_covid19_megathread_news_and_updates_7/gdre274/?utm_source=reddit&amp;utm_medium=web2x&amp;context=3\" id=\"CommentTopMeta--Created--t1_gdre274\" rel=\"nofollow\" target=\"_blank\">1 hour ago</a>,\n",
              " <a class=\"_1sA-1jNHouHDpgCp1fCQ_F\" href=\"/r/india/comments/jj8aog/coronavirus_covid19_megathread_news_and_updates_7/gdrh1ou/?utm_source=reddit&amp;utm_medium=web2x&amp;context=3\" id=\"CommentTopMeta--Created--t1_gdrh1ou\" rel=\"nofollow\" target=\"_blank\">52 minutes ago</a>,\n",
              " <a class=\"_3t5uN8xUmg0TOwRCOGQEcU\" href=\"mailto:icall@tiss.edu\" rel=\"noopener nofollow ugc\" target=\"_blank\"><strong class=\"_12FoOEddL7j_RgMQN0SNeU\">icall@tiss.edu</strong></a>,\n",
              " <a class=\"_3t5uN8xUmg0TOwRCOGQEcU\" href=\"http://www.icallhelpline.org\" rel=\"noopener nofollow ugc\" target=\"_blank\">www.icallhelpline.org</a>,\n",
              " <a class=\"_3t5uN8xUmg0TOwRCOGQEcU\" href=\"https://docs.google.com/spreadsheets/d/1pzckT6ns2H1IlmwYwJa8EnBh_1u3gRA9cEOoA4zfilc/htmlview#gid=370032083\" rel=\"noopener nofollow ugc\" target=\"_blank\">https://docs.google.com/spreadsheets/d/1pzckT6ns2H1IlmwYwJa8EnBh_1u3gRA9cEOoA4zfilc/htmlview#gid=370032083</a>,\n",
              " <a class=\"_3t5uN8xUmg0TOwRCOGQEcU\" href=\"https://np.reddit.com/r/india/comments/jw6c8d/weekly_mental_health_discussion_thread/\" rel=\"noopener nofollow ugc\" target=\"_blank\">https://np.reddit.com/r/india/comments/jw6c8d/weekly_mental_health_discussion_thread/</a>,\n",
              " <a class=\"_1sA-1jNHouHDpgCp1fCQ_F\" href=\"/r/india/comments/jj8aog/coronavirus_covid19_megathread_news_and_updates_7/gdran70/?utm_source=reddit&amp;utm_medium=web2x&amp;context=3\" id=\"CommentTopMeta--Created--t1_gdran70\" rel=\"nofollow\" target=\"_blank\">2 hours ago</a>,\n",
              " <a class=\"_1sA-1jNHouHDpgCp1fCQ_F\" href=\"/r/india/comments/jj8aog/coronavirus_covid19_megathread_news_and_updates_7/gdrf8mm/?utm_source=reddit&amp;utm_medium=web2x&amp;context=3\" id=\"CommentTopMeta--Created--t1_gdrf8mm\" rel=\"nofollow\" target=\"_blank\">1 hour ago</a>,\n",
              " <a class=\"_1sA-1jNHouHDpgCp1fCQ_F\" href=\"/r/india/comments/jj8aog/coronavirus_covid19_megathread_news_and_updates_7/gdr9q3s/?utm_source=reddit&amp;utm_medium=web2x&amp;context=3\" id=\"CommentTopMeta--Created--t1_gdr9q3s\" rel=\"nofollow\" target=\"_blank\">2 hours ago</a>,\n",
              " <a class=\"_3t5uN8xUmg0TOwRCOGQEcU\" href=\"https://np.reddit.com/r/COVID19/comments/k1t8yw/nvxcov2373_vaccine_protects_cynomolgus_macaque/\" rel=\"noopener nofollow ugc\" target=\"_blank\">https://np.reddit.com/r/COVID19/comments/k1t8yw/nvxcov2373_vaccine_protects_cynomolgus_macaque/</a>,\n",
              " <a class=\"_1sA-1jNHouHDpgCp1fCQ_F\" href=\"/r/india/comments/jj8aog/coronavirus_covid19_megathread_news_and_updates_7/gdr0hmy/?utm_source=reddit&amp;utm_medium=web2x&amp;context=3\" id=\"CommentTopMeta--Created--t1_gdr0hmy\" rel=\"nofollow\" target=\"_blank\">5 hours ago</a>,\n",
              " <a class=\"_3t5uN8xUmg0TOwRCOGQEcU\" href=\"https://m.timesofindia.com/india/india-to-consider-clinical-trials-data-of-two-full-doses-of-astrazeneca-vaccine/articleshow/79437239.cms\" rel=\"noopener nofollow ugc\" target=\"_blank\">https://m.timesofindia.com/india/india-to-consider-clinical-trials-data-of-two-full-doses-of-astrazeneca-vaccine/articleshow/79437239.cms</a>,\n",
              " <a class=\"_1sA-1jNHouHDpgCp1fCQ_F\" href=\"/r/india/comments/jj8aog/coronavirus_covid19_megathread_news_and_updates_7/gdrcd69/?utm_source=reddit&amp;utm_medium=web2x&amp;context=3\" id=\"CommentTopMeta--Created--t1_gdrcd69\" rel=\"nofollow\" target=\"_blank\">1 hour ago</a>,\n",
              " <a class=\"b57A3J7QBa7TvY8XeupVn\" href=\"/r/india/comments/jj8aog/coronavirus_covid19_megathread_news_and_updates_7/gdrcd69\"><span class=\"_2bsN7AuzEexqxXD-vhOkM7\">Continue this thread</span> <svg class=\"egHA5MD_goQfvgLP3zgST\" version=\"1.1\" viewbox=\"0 0 11.4 11.4\" xmlns=\"http://www.w3.org/2000/svg\"><g><path d=\"m11.17929,5.99479c0.08081,-0.19519 0.08081,-0.41599 0,-0.61118c-0.0408,-0.0984 -0.0992,-0.1864 -0.17361,-0.2608l-4.79963,-4.79911c-0.31283,-0.3128 -0.81847,-0.3128 -1.1313,0c-0.31283,0.31279 -0.31283,0.81918 0,1.13118l3.43471,3.43433l-7.66949,0c-0.44244,0 -0.80007,0.3584 -0.80007,0.79999c0,0.44159 0.35763,0.79999 0.80007,0.79999l7.66949,0l-3.43471,3.43433c-0.31283,0.3128 -0.31283,0.81919 0,1.13118c0.15601,0.156 0.36083,0.2344 0.56565,0.2344c0.20482,0 0.40964,-0.0784 0.56565,-0.2344l4.79963,-4.79911c0.07441,-0.0744 0.13281,-0.1624 0.17361,-0.2608\" fill=\"inherit\"></path></g></svg></a>,\n",
              " <a class=\"_1sA-1jNHouHDpgCp1fCQ_F\" href=\"/r/india/comments/jj8aog/coronavirus_covid19_megathread_news_and_updates_7/gdqxa28/?utm_source=reddit&amp;utm_medium=web2x&amp;context=3\" id=\"CommentTopMeta--Created--t1_gdqxa28\" rel=\"nofollow\" target=\"_blank\">6 hours ago</a>,\n",
              " <a class=\"_3t5uN8xUmg0TOwRCOGQEcU\" href=\"https://www.nature.com/articles/s41467-020-19818-2\" rel=\"noopener nofollow ugc\" target=\"_blank\"><strong class=\"_12FoOEddL7j_RgMQN0SNeU\">No evidence for increased transmissibility from recurrent mutations in SARS-CoV-2</strong></a>,\n",
              " <a class=\"_1sA-1jNHouHDpgCp1fCQ_F\" href=\"/r/india/comments/jj8aog/coronavirus_covid19_megathread_news_and_updates_7/gdqmpc8/?utm_source=reddit&amp;utm_medium=web2x&amp;context=3\" id=\"CommentTopMeta--Created--t1_gdqmpc8\" rel=\"nofollow\" target=\"_blank\">8 hours ago</a>,\n",
              " <a class=\"_3t5uN8xUmg0TOwRCOGQEcU\" href=\"https://www.hindustantimes.com/noida/about-22-1-found-positive-for-antibodies-in-up-s-sero-survey/story-pirjTbKgKYyI65hRon3Y5K.html\" rel=\"noopener nofollow ugc\" target=\"_blank\"><strong class=\"_12FoOEddL7j_RgMQN0SNeU\">About 22.1% found positive for antibodies in UP’s sero survey</strong></a>,\n",
              " <a class=\"_1sA-1jNHouHDpgCp1fCQ_F\" href=\"/r/india/comments/jj8aog/coronavirus_covid19_megathread_news_and_updates_7/gdpnlwt/?utm_source=reddit&amp;utm_medium=web2x&amp;context=3\" id=\"CommentTopMeta--Created--t1_gdpnlwt\" rel=\"nofollow\" target=\"_blank\">15 hours ago</a>,\n",
              " <a class=\"_3t5uN8xUmg0TOwRCOGQEcU\" href=\"https://www.fda.gov/advisory-committees/advisory-committee-calendar/vaccines-and-related-biological-products-advisory-committee-december-10-2020-meeting-announcement\" rel=\"noopener nofollow ugc\" target=\"_blank\">https://www.fda.gov/advisory-committees/advisory-committee-calendar/vaccines-and-related-biological-products-advisory-committee-december-10-2020-meeting-announcement</a>,\n",
              " <a class=\"_3t5uN8xUmg0TOwRCOGQEcU\" href=\"https://www.regulations.gov/docketBrowser?rpp=25&amp;so=DESC&amp;sb=commentDueDate&amp;po=0&amp;D=FDA-2020-N-1898\" rel=\"noopener nofollow ugc\" target=\"_blank\">https://www.regulations.gov/docketBrowser?rpp=25&amp;so=DESC&amp;sb=commentDueDate&amp;po=0&amp;D=FDA-2020-N-1898</a>,\n",
              " <a class=\"_1sA-1jNHouHDpgCp1fCQ_F\" href=\"/r/india/comments/jj8aog/coronavirus_covid19_megathread_news_and_updates_7/gdodmfq/?utm_source=reddit&amp;utm_medium=web2x&amp;context=3\" id=\"CommentTopMeta--Created--t1_gdodmfq\" rel=\"nofollow\" target=\"_blank\">21 hours ago</a>,\n",
              " <a class=\"_3t5uN8xUmg0TOwRCOGQEcU\" href=\"https://www.bloomberg.com/news/articles/2020-11-26/astrazeneca-likely-to-run-new-trial-on-covid-19-vaccine-ceo-says\" rel=\"noopener nofollow ugc\" target=\"_blank\">https://www.bloomberg.com/news/articles/2020-11-26/astrazeneca-likely-to-run-new-trial-on-covid-19-vaccine-ceo-says</a>,\n",
              " <a class=\"_1sA-1jNHouHDpgCp1fCQ_F\" href=\"/r/india/comments/jj8aog/coronavirus_covid19_megathread_news_and_updates_7/gdp502f/?utm_source=reddit&amp;utm_medium=web2x&amp;context=3\" id=\"CommentTopMeta--Created--t1_gdp502f\" rel=\"nofollow\" target=\"_blank\">17 hours ago</a>,\n",
              " <a class=\"_3t5uN8xUmg0TOwRCOGQEcU\" href=\"https://www.fda.gov/emergency-preparedness-and-response/mcm-legal-regulatory-and-policy-framework/emergency-use-authorization\" rel=\"noopener nofollow ugc\" target=\"_blank\"><em class=\"_7s4syPYtk5hfUIjySXcRE\">https://www.fda.gov/emergency-preparedness-and-response/mcm-legal-regulatory-and-policy-framework/emergency-use-authorization</em></a>,\n",
              " <a class=\"_1sA-1jNHouHDpgCp1fCQ_F\" href=\"/r/india/comments/jj8aog/coronavirus_covid19_megathread_news_and_updates_7/gdp2mnh/?utm_source=reddit&amp;utm_medium=web2x&amp;context=3\" id=\"CommentTopMeta--Created--t1_gdp2mnh\" rel=\"nofollow\" target=\"_blank\">18 hours ago</a>,\n",
              " <a class=\"b57A3J7QBa7TvY8XeupVn\" href=\"/r/india/comments/jj8aog/coronavirus_covid19_megathread_news_and_updates_7/gdp2mnh\"><span class=\"_2bsN7AuzEexqxXD-vhOkM7\">Continue this thread</span> <svg class=\"egHA5MD_goQfvgLP3zgST\" version=\"1.1\" viewbox=\"0 0 11.4 11.4\" xmlns=\"http://www.w3.org/2000/svg\"><g><path d=\"m11.17929,5.99479c0.08081,-0.19519 0.08081,-0.41599 0,-0.61118c-0.0408,-0.0984 -0.0992,-0.1864 -0.17361,-0.2608l-4.79963,-4.79911c-0.31283,-0.3128 -0.81847,-0.3128 -1.1313,0c-0.31283,0.31279 -0.31283,0.81918 0,1.13118l3.43471,3.43433l-7.66949,0c-0.44244,0 -0.80007,0.3584 -0.80007,0.79999c0,0.44159 0.35763,0.79999 0.80007,0.79999l7.66949,0l-3.43471,3.43433c-0.31283,0.3128 -0.31283,0.81919 0,1.13118c0.15601,0.156 0.36083,0.2344 0.56565,0.2344c0.20482,0 0.40964,-0.0784 0.56565,-0.2344l4.79963,-4.79911c0.07441,-0.0744 0.13281,-0.1624 0.17361,-0.2608\" fill=\"inherit\"></path></g></svg></a>,\n",
              " <a class=\"_1sA-1jNHouHDpgCp1fCQ_F\" href=\"/r/india/comments/jj8aog/coronavirus_covid19_megathread_news_and_updates_7/gdow207/?utm_source=reddit&amp;utm_medium=web2x&amp;context=3\" id=\"CommentTopMeta--Created--t1_gdow207\" rel=\"nofollow\" target=\"_blank\">19 hours ago</a>,\n",
              " <a class=\"b57A3J7QBa7TvY8XeupVn\" href=\"/r/india/comments/jj8aog/coronavirus_covid19_megathread_news_and_updates_7/gdow207\"><span class=\"_2bsN7AuzEexqxXD-vhOkM7\">Continue this thread</span> <svg class=\"egHA5MD_goQfvgLP3zgST\" version=\"1.1\" viewbox=\"0 0 11.4 11.4\" xmlns=\"http://www.w3.org/2000/svg\"><g><path d=\"m11.17929,5.99479c0.08081,-0.19519 0.08081,-0.41599 0,-0.61118c-0.0408,-0.0984 -0.0992,-0.1864 -0.17361,-0.2608l-4.79963,-4.79911c-0.31283,-0.3128 -0.81847,-0.3128 -1.1313,0c-0.31283,0.31279 -0.31283,0.81918 0,1.13118l3.43471,3.43433l-7.66949,0c-0.44244,0 -0.80007,0.3584 -0.80007,0.79999c0,0.44159 0.35763,0.79999 0.80007,0.79999l7.66949,0l-3.43471,3.43433c-0.31283,0.3128 -0.31283,0.81919 0,1.13118c0.15601,0.156 0.36083,0.2344 0.56565,0.2344c0.20482,0 0.40964,-0.0784 0.56565,-0.2344l4.79963,-4.79911c0.07441,-0.0744 0.13281,-0.1624 0.17361,-0.2608\" fill=\"inherit\"></path></g></svg></a>,\n",
              " <a class=\"_1sA-1jNHouHDpgCp1fCQ_F\" href=\"/r/india/comments/jj8aog/coronavirus_covid19_megathread_news_and_updates_7/gdoh02x/?utm_source=reddit&amp;utm_medium=web2x&amp;context=3\" id=\"CommentTopMeta--Created--t1_gdoh02x\" rel=\"nofollow\" target=\"_blank\">21 hours ago</a>,\n",
              " <a class=\"b57A3J7QBa7TvY8XeupVn\" href=\"/r/india/comments/jj8aog/coronavirus_covid19_megathread_news_and_updates_7/gdoh02x\"><span class=\"_2bsN7AuzEexqxXD-vhOkM7\">Continue this thread</span> <svg class=\"egHA5MD_goQfvgLP3zgST\" version=\"1.1\" viewbox=\"0 0 11.4 11.4\" xmlns=\"http://www.w3.org/2000/svg\"><g><path d=\"m11.17929,5.99479c0.08081,-0.19519 0.08081,-0.41599 0,-0.61118c-0.0408,-0.0984 -0.0992,-0.1864 -0.17361,-0.2608l-4.79963,-4.79911c-0.31283,-0.3128 -0.81847,-0.3128 -1.1313,0c-0.31283,0.31279 -0.31283,0.81918 0,1.13118l3.43471,3.43433l-7.66949,0c-0.44244,0 -0.80007,0.3584 -0.80007,0.79999c0,0.44159 0.35763,0.79999 0.80007,0.79999l7.66949,0l-3.43471,3.43433c-0.31283,0.3128 -0.31283,0.81919 0,1.13118c0.15601,0.156 0.36083,0.2344 0.56565,0.2344c0.20482,0 0.40964,-0.0784 0.56565,-0.2344l4.79963,-4.79911c0.07441,-0.0744 0.13281,-0.1624 0.17361,-0.2608\" fill=\"inherit\"></path></g></svg></a>,\n",
              " <a class=\"_1sA-1jNHouHDpgCp1fCQ_F\" href=\"/r/india/comments/jj8aog/coronavirus_covid19_megathread_news_and_updates_7/gdmyggr/?utm_source=reddit&amp;utm_medium=web2x&amp;context=3\" id=\"CommentTopMeta--Created--t1_gdmyggr\" rel=\"nofollow\" target=\"_blank\">1 day ago</a>,\n",
              " <a class=\"_3t5uN8xUmg0TOwRCOGQEcU\" href=\"https://www.icmr.gov.in/\" rel=\"noopener nofollow ugc\" target=\"_blank\">10,90,238</a>,\n",
              " <a class=\"_3t5uN8xUmg0TOwRCOGQEcU\" href=\"https://twitter.com/ICMRDELHI/status/1331805544739348480\" rel=\"noopener nofollow ugc\" target=\"_blank\">November 25, 2020</a>,\n",
              " <a class=\"_3t5uN8xUmg0TOwRCOGQEcU\" href=\"https://covid19cc.nic.in/icmr/Login.aspx\" rel=\"noopener nofollow ugc\" target=\"_blank\">5,20,170 RT-PCR</a>,\n",
              " <a class=\"_3t5uN8xUmg0TOwRCOGQEcU\" href=\"https://covid19cc.nic.in/icmr/BharatNet.htm\" rel=\"noopener nofollow ugc\" target=\"_blank\">ICMR portal</a>,\n",
              " <a class=\"_3t5uN8xUmg0TOwRCOGQEcU\" href=\"https://twitter.com/covid19indiaorg/status/1307352158463905792/photo/1\" rel=\"noopener nofollow ugc\" target=\"_blank\">mismatch</a>,\n",
              " <a class=\"_1sA-1jNHouHDpgCp1fCQ_F\" href=\"/r/india/comments/jj8aog/coronavirus_covid19_megathread_news_and_updates_7/gdmumd6/?utm_source=reddit&amp;utm_medium=web2x&amp;context=3\" id=\"CommentTopMeta--Created--t1_gdmumd6\" rel=\"nofollow\" target=\"_blank\">1 day ago</a>,\n",
              " <a class=\"_3t5uN8xUmg0TOwRCOGQEcU\" href=\"/u/Krab_em/\" rel=\"noopener nofollow ugc\" target=\"_blank\">u/Krab_em</a>,\n",
              " <a class=\"_1sA-1jNHouHDpgCp1fCQ_F\" href=\"/r/india/comments/jj8aog/coronavirus_covid19_megathread_news_and_updates_7/gdp31rz/?utm_source=reddit&amp;utm_medium=web2x&amp;context=3\" id=\"CommentTopMeta--Created--t1_gdp31rz\" rel=\"nofollow\" target=\"_blank\">18 hours ago</a>,\n",
              " <a class=\"_1sA-1jNHouHDpgCp1fCQ_F\" href=\"/r/india/comments/jj8aog/coronavirus_covid19_megathread_news_and_updates_7/gdmxcyb/?utm_source=reddit&amp;utm_medium=web2x&amp;context=3\" id=\"CommentTopMeta--Created--t1_gdmxcyb\" rel=\"nofollow\" target=\"_blank\">1 day ago</a>,\n",
              " <a class=\"_3t5uN8xUmg0TOwRCOGQEcU\" href=\"https://old.reddit.com/r/india/comments/jj8aog/coronavirus_covid19_megathread_news_and_updates_7/gdemh1d/\" rel=\"noopener nofollow ugc\" target=\"_blank\">https://old.reddit.com/r/india/comments/jj8aog/coronavirus_covid19_megathread_news_and_updates_7/gdemh1d/</a>,\n",
              " <a class=\"_3t5uN8xUmg0TOwRCOGQEcU\" href=\"https://old.reddit.com/r/india/comments/jj8aog/coronavirus_covid19_megathread_news_and_updates_7/gdhtdh9/\" rel=\"noopener nofollow ugc\" target=\"_blank\">https://old.reddit.com/r/india/comments/jj8aog/coronavirus_covid19_megathread_news_and_updates_7/gdhtdh9/</a>,\n",
              " <a class=\"_1khvWSB4GNuM2XwSjluHzO Cvt0D6iVwU5TI0SY2nIGC\" href=\"/r/india/\" style=\"background-color:#ff9933\"><div class=\"_3P_3k_jLv_J8ieIol9GqFL\"></div><div class=\"_3CzLjB_82xAxB3iyad5yLM\">Continue browsing in r/india<svg class=\"_3P6Ag4hY0u5ujhvLSAAVUH\" version=\"1.1\" viewbox=\"0 0 11.4 11.4\" xmlns=\"http://www.w3.org/2000/svg\"><g><path d=\"m11.17929,5.99479c0.08081,-0.19519 0.08081,-0.41599 0,-0.61118c-0.0408,-0.0984 -0.0992,-0.1864 -0.17361,-0.2608l-4.79963,-4.79911c-0.31283,-0.3128 -0.81847,-0.3128 -1.1313,0c-0.31283,0.31279 -0.31283,0.81918 0,1.13118l3.43471,3.43433l-7.66949,0c-0.44244,0 -0.80007,0.3584 -0.80007,0.79999c0,0.44159 0.35763,0.79999 0.80007,0.79999l7.66949,0l-3.43471,3.43433c-0.31283,0.3128 -0.31283,0.81919 0,1.13118c0.15601,0.156 0.36083,0.2344 0.56565,0.2344c0.20482,0 0.40964,-0.0784 0.56565,-0.2344l4.79963,-4.79911c0.07441,-0.0744 0.13281,-0.1624 0.17361,-0.2608\" fill=\"inherit\"></path></g></svg></div></a>,\n",
              " <a class=\"_2D7eYuDY6cYGtybECmsxvE\" href=\"/r/india/\"><span class=\"_19bCWnxeTjqzBElWZfIlJb\" title=\"r/india\">r/india</span></a>,\n",
              " <a class=\"_3Eyh3vRo5o4IfzVZXhaWAG\" href=\"https://www.reddithelp.com\">help</a>,\n",
              " <a class=\"_3Eyh3vRo5o4IfzVZXhaWAG\" href=\"https://www.reddit.com/mobile/download\">Reddit App</a>,\n",
              " <a class=\"_3Eyh3vRo5o4IfzVZXhaWAG\" href=\"https://www.reddit.com/coins\">Reddit coins</a>,\n",
              " <a class=\"_3Eyh3vRo5o4IfzVZXhaWAG\" href=\"https://www.reddit.com/premium\">Reddit premium</a>,\n",
              " <a class=\"_3Eyh3vRo5o4IfzVZXhaWAG\" href=\"https://redditgifts.com/\">Reddit gifts</a>,\n",
              " <a class=\"_3Eyh3vRo5o4IfzVZXhaWAG\" href=\"https://about.reddit.com\">about</a>,\n",
              " <a class=\"_3Eyh3vRo5o4IfzVZXhaWAG\" href=\"https://about.reddit.com/careers/\">careers</a>,\n",
              " <a class=\"_3Eyh3vRo5o4IfzVZXhaWAG\" href=\"https://about.reddit.com/press/\">press</a>,\n",
              " <a class=\"_3Eyh3vRo5o4IfzVZXhaWAG\" href=\"https://www.redditinc.com/advertising\">advertise</a>,\n",
              " <a class=\"_3Eyh3vRo5o4IfzVZXhaWAG\" href=\"http://www.redditblog.com/\">blog</a>,\n",
              " <a class=\"_3Eyh3vRo5o4IfzVZXhaWAG\" href=\"https://www.redditinc.com/policies/user-agreement\">Terms</a>,\n",
              " <a class=\"_3Eyh3vRo5o4IfzVZXhaWAG\" href=\"https://www.redditinc.com/policies/content-policy\">Content policy</a>,\n",
              " <a class=\"_3Eyh3vRo5o4IfzVZXhaWAG\" href=\"https://www.reddit.com/help/privacypolicy\">Privacy policy</a>,\n",
              " <a class=\"_3Eyh3vRo5o4IfzVZXhaWAG\" href=\"https://www.reddit.com/help/healthycommunities/\">Mod policy</a>]"
            ]
          },
          "metadata": {
            "tags": []
          },
          "execution_count": 8
        }
      ]
    },
    {
      "cell_type": "code",
      "metadata": {
        "id": "ODiFna2lmXNk",
        "colab": {
          "base_uri": "https://localhost:8080/"
        },
        "outputId": "ebbe6d0a-6d96-4d56-c1d0-273d465a717c"
      },
      "source": [
        "#df = pd.DataFrame(table_data)\n",
        "all_links = soup.find_all(\"a\")\n",
        "for link in all_links:\n",
        "    print(link.get(\"href\"))"
      ],
      "execution_count": 10,
      "outputs": [
        {
          "output_type": "stream",
          "text": [
            "/\n",
            "https://www.reddit.com/login/?dest=https%3A%2F%2Fwww.reddit.com%2Fr%2Findia%2Fcomments%2Fjj8aog%2Fcoronavirus_covid19_megathread_news_and_updates_7%2F\n",
            "https://www.reddit.com/register/?dest=https%3A%2F%2Fwww.reddit.com%2Fr%2Findia%2Fcomments%2Fjj8aog%2Fcoronavirus_covid19_megathread_news_and_updates_7%2F\n",
            "/r/india/search?q=flair_name%3A%22Coronavirus%22&restrict_sr=1\n",
            "https://www.reddit.com/r/india/comments/jj8aog/coronavirus_covid19_megathread_news_and_updates_7/\n",
            "/r/india/search?q=flair_name%3A%22Coronavirus%22&restrict_sr=1\n",
            "https://amnesty.org.in/support-indias-most-vulnerable-fight-covid-19-a-list-of-fundraisers-you-can-donate-to/\n",
            "https://amnesty.org.in/support-indias-most-vulnerable-fight-covid-19-a-list-of-fundraisers-you-can-donate-to/\n",
            "https://twitter.com/i/events/1240662046280048646\n",
            "https://www.mohfw.gov.in/pdf/DistrictWiseList324.pdf\n",
            "mailto:ncov2019@gov.in\n",
            "https://www.mohfw.gov.in/pdf/coronvavirushelplinenumber.pdf\n",
            "https://covid.icmr.org.in/index.php/testing-facilities\n",
            "/r/India/\n",
            "https://www.covid19india.org/\n",
            "/u/splitladoo/\n",
            "https://covidindiasupport.com/main\n",
            "/u/lilhuman0/\n",
            "https://docs.google.com/spreadsheets/d/1uKqaxMd5gkghBKMmp_fbnLRFLdic_Kv-i_802f77Ih0/edit#gid=0\n",
            "/u/lord_blood_raven/\n",
            "https://www.nytimes.com/interactive/2020/science/coronavirus-vaccine-tracker.html\n",
            "https://www.mohfw.gov.in/\n",
            "https://www.covid19india.org\n",
            "/r/Coronavirus/\n",
            "/r/COVID19Positive/\n",
            "https://www.who.int/emergencies/diseases/novel-coronavirus-2019/advice-for-public\n",
            "https://www.who.int/health-topics/coronavirus\n",
            "https://www.who.int/news-room/q-a-detail/q-a-coronaviruses\n",
            "https://www.nytimes.com/article/prepare-for-coronavirus.html\n",
            "https://www.who.int/emergencies/diseases/novel-coronavirus-2019/advice-for-public/myth-busters\n",
            "https://coronavirus.heallify.com/\n",
            "https://www.nytimes.com/article/quarantine-coronavirus.html\n",
            "/r/pcmasterrace/\n",
            "https://foldingathome.org/start-folding/\n",
            "https://pcmasterrace.org/folding\n",
            "https://www.reddit.com/r/india/comments/f2kaxr/covid19_megathread_news_and_updates/\n",
            "https://www.reddit.com/r/india/comments/fkttm7/coronavirus_covid19_megathread_news_and_updates_ii/\n",
            "https://www.reddit.com/r/india/comments/fqqdsg/coronavirus_covid19_megathread_news_and_updates_3/\n",
            "https://www.reddit.com/r/india/comments/g1zi21/coronavirus_covid19_megathread_news_and_updates_4/\n",
            "https://www.reddit.com/r/india/comments/gmbriq/coronavirus_covid19_megathread_news_and_updates_5/\n",
            "https://www.reddit.com/r/india/comments/hhkrth/coronavirus_covid19_megathread_news_and_updates_6/\n",
            "/r/india/comments/jj8aog/coronavirus_covid19_megathread_news_and_updates_7/\n",
            "https://www.reddit.com/login?dest=https%3A%2F%2Fwww.reddit.com%2Fr%2Findia%2Fcomments%2Fjj8aog%2Fcoronavirus_covid19_megathread_news_and_updates_7%2F\n",
            "https://www.reddit.com/register?dest=https%3A%2F%2Fwww.reddit.com%2Fr%2Findia%2Fcomments%2Fjj8aog%2Fcoronavirus_covid19_megathread_news_and_updates_7%2F\n",
            "/r/india/duplicates/jj8aog/coronavirus_covid19_megathread_news_and_updates_7/\n",
            "/r/india/comments/jj8aog/coronavirus_covid19_megathread_news_and_updates_7/gab0nwl/?utm_source=reddit&utm_medium=web2x&context=3\n",
            "/r/CoronavirusIndia/\n",
            "/r/india/comments/jj8aog/coronavirus_covid19_megathread_news_and_updates_7/gdre274/?utm_source=reddit&utm_medium=web2x&context=3\n",
            "/r/india/comments/jj8aog/coronavirus_covid19_megathread_news_and_updates_7/gdrh1ou/?utm_source=reddit&utm_medium=web2x&context=3\n",
            "mailto:icall@tiss.edu\n",
            "http://www.icallhelpline.org\n",
            "https://docs.google.com/spreadsheets/d/1pzckT6ns2H1IlmwYwJa8EnBh_1u3gRA9cEOoA4zfilc/htmlview#gid=370032083\n",
            "https://np.reddit.com/r/india/comments/jw6c8d/weekly_mental_health_discussion_thread/\n",
            "/r/india/comments/jj8aog/coronavirus_covid19_megathread_news_and_updates_7/gdran70/?utm_source=reddit&utm_medium=web2x&context=3\n",
            "/r/india/comments/jj8aog/coronavirus_covid19_megathread_news_and_updates_7/gdrf8mm/?utm_source=reddit&utm_medium=web2x&context=3\n",
            "/r/india/comments/jj8aog/coronavirus_covid19_megathread_news_and_updates_7/gdr9q3s/?utm_source=reddit&utm_medium=web2x&context=3\n",
            "https://np.reddit.com/r/COVID19/comments/k1t8yw/nvxcov2373_vaccine_protects_cynomolgus_macaque/\n",
            "/r/india/comments/jj8aog/coronavirus_covid19_megathread_news_and_updates_7/gdr0hmy/?utm_source=reddit&utm_medium=web2x&context=3\n",
            "https://m.timesofindia.com/india/india-to-consider-clinical-trials-data-of-two-full-doses-of-astrazeneca-vaccine/articleshow/79437239.cms\n",
            "/r/india/comments/jj8aog/coronavirus_covid19_megathread_news_and_updates_7/gdrcd69/?utm_source=reddit&utm_medium=web2x&context=3\n",
            "/r/india/comments/jj8aog/coronavirus_covid19_megathread_news_and_updates_7/gdrcd69\n",
            "/r/india/comments/jj8aog/coronavirus_covid19_megathread_news_and_updates_7/gdqxa28/?utm_source=reddit&utm_medium=web2x&context=3\n",
            "https://www.nature.com/articles/s41467-020-19818-2\n",
            "/r/india/comments/jj8aog/coronavirus_covid19_megathread_news_and_updates_7/gdqmpc8/?utm_source=reddit&utm_medium=web2x&context=3\n",
            "https://www.hindustantimes.com/noida/about-22-1-found-positive-for-antibodies-in-up-s-sero-survey/story-pirjTbKgKYyI65hRon3Y5K.html\n",
            "/r/india/comments/jj8aog/coronavirus_covid19_megathread_news_and_updates_7/gdpnlwt/?utm_source=reddit&utm_medium=web2x&context=3\n",
            "https://www.fda.gov/advisory-committees/advisory-committee-calendar/vaccines-and-related-biological-products-advisory-committee-december-10-2020-meeting-announcement\n",
            "https://www.regulations.gov/docketBrowser?rpp=25&so=DESC&sb=commentDueDate&po=0&D=FDA-2020-N-1898\n",
            "/r/india/comments/jj8aog/coronavirus_covid19_megathread_news_and_updates_7/gdodmfq/?utm_source=reddit&utm_medium=web2x&context=3\n",
            "https://www.bloomberg.com/news/articles/2020-11-26/astrazeneca-likely-to-run-new-trial-on-covid-19-vaccine-ceo-says\n",
            "/r/india/comments/jj8aog/coronavirus_covid19_megathread_news_and_updates_7/gdp502f/?utm_source=reddit&utm_medium=web2x&context=3\n",
            "https://www.fda.gov/emergency-preparedness-and-response/mcm-legal-regulatory-and-policy-framework/emergency-use-authorization\n",
            "/r/india/comments/jj8aog/coronavirus_covid19_megathread_news_and_updates_7/gdp2mnh/?utm_source=reddit&utm_medium=web2x&context=3\n",
            "/r/india/comments/jj8aog/coronavirus_covid19_megathread_news_and_updates_7/gdp2mnh\n",
            "/r/india/comments/jj8aog/coronavirus_covid19_megathread_news_and_updates_7/gdow207/?utm_source=reddit&utm_medium=web2x&context=3\n",
            "/r/india/comments/jj8aog/coronavirus_covid19_megathread_news_and_updates_7/gdow207\n",
            "/r/india/comments/jj8aog/coronavirus_covid19_megathread_news_and_updates_7/gdoh02x/?utm_source=reddit&utm_medium=web2x&context=3\n",
            "/r/india/comments/jj8aog/coronavirus_covid19_megathread_news_and_updates_7/gdoh02x\n",
            "/r/india/comments/jj8aog/coronavirus_covid19_megathread_news_and_updates_7/gdmyggr/?utm_source=reddit&utm_medium=web2x&context=3\n",
            "https://www.icmr.gov.in/\n",
            "https://twitter.com/ICMRDELHI/status/1331805544739348480\n",
            "https://covid19cc.nic.in/icmr/Login.aspx\n",
            "https://covid19cc.nic.in/icmr/BharatNet.htm\n",
            "https://twitter.com/covid19indiaorg/status/1307352158463905792/photo/1\n",
            "/r/india/comments/jj8aog/coronavirus_covid19_megathread_news_and_updates_7/gdmumd6/?utm_source=reddit&utm_medium=web2x&context=3\n",
            "/u/Krab_em/\n",
            "/r/india/comments/jj8aog/coronavirus_covid19_megathread_news_and_updates_7/gdp31rz/?utm_source=reddit&utm_medium=web2x&context=3\n",
            "/r/india/comments/jj8aog/coronavirus_covid19_megathread_news_and_updates_7/gdmxcyb/?utm_source=reddit&utm_medium=web2x&context=3\n",
            "https://old.reddit.com/r/india/comments/jj8aog/coronavirus_covid19_megathread_news_and_updates_7/gdemh1d/\n",
            "https://old.reddit.com/r/india/comments/jj8aog/coronavirus_covid19_megathread_news_and_updates_7/gdhtdh9/\n",
            "/r/india/\n",
            "/r/india/\n",
            "https://www.reddithelp.com\n",
            "https://www.reddit.com/mobile/download\n",
            "https://www.reddit.com/coins\n",
            "https://www.reddit.com/premium\n",
            "https://redditgifts.com/\n",
            "https://about.reddit.com\n",
            "https://about.reddit.com/careers/\n",
            "https://about.reddit.com/press/\n",
            "https://www.redditinc.com/advertising\n",
            "http://www.redditblog.com/\n",
            "https://www.redditinc.com/policies/user-agreement\n",
            "https://www.redditinc.com/policies/content-policy\n",
            "https://www.reddit.com/help/privacypolicy\n",
            "https://www.reddit.com/help/healthycommunities/\n"
          ],
          "name": "stdout"
        }
      ]
    },
    {
      "cell_type": "code",
      "metadata": {
        "colab": {
          "base_uri": "https://localhost:8080/"
        },
        "id": "DH8zhmujo_N9",
        "outputId": "75641690-75fc-45fb-87a5-7fe56a86f3a3"
      },
      "source": [
        "#df.dtypes\n",
        "rows = soup.find_all('tr')\n",
        "print(rows[:10])"
      ],
      "execution_count": 11,
      "outputs": [
        {
          "output_type": "stream",
          "text": [
            "[<tr class=\"s6JZe6869f81l9E_5G7Q9\"><th class=\"_3TNkDptlyGOiWXvdX_acOB\">Date</th><th class=\"_3TNkDptlyGOiWXvdX_acOB\">7-day average</th><th class=\"_3TNkDptlyGOiWXvdX_acOB\">SDMA daily growth</th><th class=\"_3TNkDptlyGOiWXvdX_acOB\">TPR 7 day</th></tr>, <tr class=\"s6JZe6869f81l9E_5G7Q9\"><td class=\"_1LHijgw3WoeCUe8AUewfUB\">16/11/2020</td><td class=\"_1LHijgw3WoeCUe8AUewfUB\">40456</td><td class=\"_1LHijgw3WoeCUe8AUewfUB\">-2.9%</td><td class=\"_1LHijgw3WoeCUe8AUewfUB\">3.97%</td></tr>, <tr class=\"s6JZe6869f81l9E_5G7Q9\"><td class=\"_1LHijgw3WoeCUe8AUewfUB\">17/11/2020</td><td class=\"_1LHijgw3WoeCUe8AUewfUB\">39564</td><td class=\"_1LHijgw3WoeCUe8AUewfUB\">-2.2%</td><td class=\"_1LHijgw3WoeCUe8AUewfUB\">4.00%</td></tr>, <tr class=\"s6JZe6869f81l9E_5G7Q9\"><td class=\"_1LHijgw3WoeCUe8AUewfUB\">18/11/2020</td><td class=\"_1LHijgw3WoeCUe8AUewfUB\">39148</td><td class=\"_1LHijgw3WoeCUe8AUewfUB\">-1.1%</td><td class=\"_1LHijgw3WoeCUe8AUewfUB\">4.08%</td></tr>, <tr class=\"s6JZe6869f81l9E_5G7Q9\"><td class=\"_1LHijgw3WoeCUe8AUewfUB\">19/11/2020</td><td class=\"_1LHijgw3WoeCUe8AUewfUB\">39376</td><td class=\"_1LHijgw3WoeCUe8AUewfUB\">+0.6%</td><td class=\"_1LHijgw3WoeCUe8AUewfUB\">4.21%</td></tr>, <tr class=\"s6JZe6869f81l9E_5G7Q9\"><td class=\"_1LHijgw3WoeCUe8AUewfUB\">20/11/2020</td><td class=\"_1LHijgw3WoeCUe8AUewfUB\">39615</td><td class=\"_1LHijgw3WoeCUe8AUewfUB\">+0.6%</td><td class=\"_1LHijgw3WoeCUe8AUewfUB\">4.27%</td></tr>, <tr class=\"s6JZe6869f81l9E_5G7Q9\"><td class=\"_1LHijgw3WoeCUe8AUewfUB\">21/11/2020</td><td class=\"_1LHijgw3WoeCUe8AUewfUB\">40130</td><td class=\"_1LHijgw3WoeCUe8AUewfUB\">+1.3%</td><td class=\"_1LHijgw3WoeCUe8AUewfUB\">4.25%</td></tr>, <tr class=\"s6JZe6869f81l9E_5G7Q9\"><td class=\"_1LHijgw3WoeCUe8AUewfUB\">22/11/2020</td><td class=\"_1LHijgw3WoeCUe8AUewfUB\">42091</td><td class=\"_1LHijgw3WoeCUe8AUewfUB\">+4.9%</td><td class=\"_1LHijgw3WoeCUe8AUewfUB\">4.13%</td></tr>, <tr class=\"s6JZe6869f81l9E_5G7Q9\"><td class=\"_1LHijgw3WoeCUe8AUewfUB\">23/11/2020</td><td class=\"_1LHijgw3WoeCUe8AUewfUB\">43352</td><td class=\"_1LHijgw3WoeCUe8AUewfUB\">+3.0%</td><td class=\"_1LHijgw3WoeCUe8AUewfUB\">4.41%</td></tr>, <tr class=\"s6JZe6869f81l9E_5G7Q9\"><td class=\"_1LHijgw3WoeCUe8AUewfUB\">24/11/2020</td><td class=\"_1LHijgw3WoeCUe8AUewfUB\">44176</td><td class=\"_1LHijgw3WoeCUe8AUewfUB\">+1.9%</td><td class=\"_1LHijgw3WoeCUe8AUewfUB\">4.02%</td></tr>]\n"
          ],
          "name": "stdout"
        }
      ]
    },
    {
      "cell_type": "code",
      "metadata": {
        "id": "AEm_MZZbpATM",
        "colab": {
          "base_uri": "https://localhost:8080/"
        },
        "outputId": "f000dfb3-184d-4238-ca09-be0ee39ed3fd"
      },
      "source": [
        "#df.to_excel('Seven day case average and TPR_data.xlsx', index=True)\n",
        "for row in rows:\n",
        "    row_td = row.find_all('td')\n",
        "print(row_td)\n",
        "type(row_td)\n"
      ],
      "execution_count": 12,
      "outputs": [
        {
          "output_type": "stream",
          "text": [
            "[<td class=\"_1LHijgw3WoeCUe8AUewfUB\">25/11/2020</td>, <td class=\"_1LHijgw3WoeCUe8AUewfUB\">44080</td>, <td class=\"_1LHijgw3WoeCUe8AUewfUB\">-0.2%</td>, <td class=\"_1LHijgw3WoeCUe8AUewfUB\">3.86%</td>]\n"
          ],
          "name": "stdout"
        },
        {
          "output_type": "execute_result",
          "data": {
            "text/plain": [
              "bs4.element.ResultSet"
            ]
          },
          "metadata": {
            "tags": []
          },
          "execution_count": 12
        }
      ]
    },
    {
      "cell_type": "code",
      "metadata": {
        "colab": {
          "base_uri": "https://localhost:8080/"
        },
        "id": "HZ8uM_jtuwL-",
        "outputId": "72948380-caa4-49fc-b889-8c3d476c4ca4"
      },
      "source": [
        "#df\n",
        "str_cells = str(row_td)\n",
        "cleantext = BeautifulSoup(str_cells, \"lxml\").get_text()\n",
        "print(cleantext)"
      ],
      "execution_count": 13,
      "outputs": [
        {
          "output_type": "stream",
          "text": [
            "[25/11/2020, 44080, -0.2%, 3.86%]\n"
          ],
          "name": "stdout"
        }
      ]
    },
    {
      "cell_type": "code",
      "metadata": {
        "id": "k3rxRjKtvQK0",
        "colab": {
          "base_uri": "https://localhost:8080/"
        },
        "outputId": "a47f81cf-4649-4637-8aed-320dba2dfc98"
      },
      "source": [
        "import re\n",
        "\n",
        "list_rows = []\n",
        "for row in rows:\n",
        "    cells = row.find_all('td')\n",
        "    str_cells = str(cells)\n",
        "    clean = re.compile('<.*?>')\n",
        "    clean2 = (re.sub(clean, '',str_cells))\n",
        "    list_rows.append(clean2)\n",
        "print(clean2)\n",
        "type(clean2)"
      ],
      "execution_count": 14,
      "outputs": [
        {
          "output_type": "stream",
          "text": [
            "[25/11/2020, 44080, -0.2%, 3.86%]\n"
          ],
          "name": "stdout"
        },
        {
          "output_type": "execute_result",
          "data": {
            "text/plain": [
              "str"
            ]
          },
          "metadata": {
            "tags": []
          },
          "execution_count": 14
        }
      ]
    },
    {
      "cell_type": "code",
      "metadata": {
        "colab": {
          "base_uri": "https://localhost:8080/",
          "height": 343
        },
        "id": "jpm5Mo9TE4eo",
        "outputId": "0c997594-d7e9-4d58-d69f-265e646f3043"
      },
      "source": [
        "df = pd.DataFrame(list_rows)\n",
        "df.head(10)"
      ],
      "execution_count": 15,
      "outputs": [
        {
          "output_type": "execute_result",
          "data": {
            "text/html": [
              "<div>\n",
              "<style scoped>\n",
              "    .dataframe tbody tr th:only-of-type {\n",
              "        vertical-align: middle;\n",
              "    }\n",
              "\n",
              "    .dataframe tbody tr th {\n",
              "        vertical-align: top;\n",
              "    }\n",
              "\n",
              "    .dataframe thead th {\n",
              "        text-align: right;\n",
              "    }\n",
              "</style>\n",
              "<table border=\"1\" class=\"dataframe\">\n",
              "  <thead>\n",
              "    <tr style=\"text-align: right;\">\n",
              "      <th></th>\n",
              "      <th>0</th>\n",
              "    </tr>\n",
              "  </thead>\n",
              "  <tbody>\n",
              "    <tr>\n",
              "      <th>0</th>\n",
              "      <td>[]</td>\n",
              "    </tr>\n",
              "    <tr>\n",
              "      <th>1</th>\n",
              "      <td>[16/11/2020, 40456, -2.9%, 3.97%]</td>\n",
              "    </tr>\n",
              "    <tr>\n",
              "      <th>2</th>\n",
              "      <td>[17/11/2020, 39564, -2.2%, 4.00%]</td>\n",
              "    </tr>\n",
              "    <tr>\n",
              "      <th>3</th>\n",
              "      <td>[18/11/2020, 39148, -1.1%, 4.08%]</td>\n",
              "    </tr>\n",
              "    <tr>\n",
              "      <th>4</th>\n",
              "      <td>[19/11/2020, 39376, +0.6%, 4.21%]</td>\n",
              "    </tr>\n",
              "    <tr>\n",
              "      <th>5</th>\n",
              "      <td>[20/11/2020, 39615, +0.6%, 4.27%]</td>\n",
              "    </tr>\n",
              "    <tr>\n",
              "      <th>6</th>\n",
              "      <td>[21/11/2020, 40130, +1.3%, 4.25%]</td>\n",
              "    </tr>\n",
              "    <tr>\n",
              "      <th>7</th>\n",
              "      <td>[22/11/2020, 42091, +4.9%, 4.13%]</td>\n",
              "    </tr>\n",
              "    <tr>\n",
              "      <th>8</th>\n",
              "      <td>[23/11/2020, 43352, +3.0%, 4.41%]</td>\n",
              "    </tr>\n",
              "    <tr>\n",
              "      <th>9</th>\n",
              "      <td>[24/11/2020, 44176, +1.9%, 4.02%]</td>\n",
              "    </tr>\n",
              "  </tbody>\n",
              "</table>\n",
              "</div>"
            ],
            "text/plain": [
              "                                   0\n",
              "0                                 []\n",
              "1  [16/11/2020, 40456, -2.9%, 3.97%]\n",
              "2  [17/11/2020, 39564, -2.2%, 4.00%]\n",
              "3  [18/11/2020, 39148, -1.1%, 4.08%]\n",
              "4  [19/11/2020, 39376, +0.6%, 4.21%]\n",
              "5  [20/11/2020, 39615, +0.6%, 4.27%]\n",
              "6  [21/11/2020, 40130, +1.3%, 4.25%]\n",
              "7  [22/11/2020, 42091, +4.9%, 4.13%]\n",
              "8  [23/11/2020, 43352, +3.0%, 4.41%]\n",
              "9  [24/11/2020, 44176, +1.9%, 4.02%]"
            ]
          },
          "metadata": {
            "tags": []
          },
          "execution_count": 15
        }
      ]
    },
    {
      "cell_type": "code",
      "metadata": {
        "colab": {
          "base_uri": "https://localhost:8080/",
          "height": 343
        },
        "id": "hSCnaqMhE7t0",
        "outputId": "7156b110-4055-4f5d-c1bc-c6a9a6446a1b"
      },
      "source": [
        "df1 = df[0].str.split(',', expand=True)\n",
        "df1.head(10)"
      ],
      "execution_count": 16,
      "outputs": [
        {
          "output_type": "execute_result",
          "data": {
            "text/html": [
              "<div>\n",
              "<style scoped>\n",
              "    .dataframe tbody tr th:only-of-type {\n",
              "        vertical-align: middle;\n",
              "    }\n",
              "\n",
              "    .dataframe tbody tr th {\n",
              "        vertical-align: top;\n",
              "    }\n",
              "\n",
              "    .dataframe thead th {\n",
              "        text-align: right;\n",
              "    }\n",
              "</style>\n",
              "<table border=\"1\" class=\"dataframe\">\n",
              "  <thead>\n",
              "    <tr style=\"text-align: right;\">\n",
              "      <th></th>\n",
              "      <th>0</th>\n",
              "      <th>1</th>\n",
              "      <th>2</th>\n",
              "      <th>3</th>\n",
              "    </tr>\n",
              "  </thead>\n",
              "  <tbody>\n",
              "    <tr>\n",
              "      <th>0</th>\n",
              "      <td>[]</td>\n",
              "      <td>None</td>\n",
              "      <td>None</td>\n",
              "      <td>None</td>\n",
              "    </tr>\n",
              "    <tr>\n",
              "      <th>1</th>\n",
              "      <td>[16/11/2020</td>\n",
              "      <td>40456</td>\n",
              "      <td>-2.9%</td>\n",
              "      <td>3.97%]</td>\n",
              "    </tr>\n",
              "    <tr>\n",
              "      <th>2</th>\n",
              "      <td>[17/11/2020</td>\n",
              "      <td>39564</td>\n",
              "      <td>-2.2%</td>\n",
              "      <td>4.00%]</td>\n",
              "    </tr>\n",
              "    <tr>\n",
              "      <th>3</th>\n",
              "      <td>[18/11/2020</td>\n",
              "      <td>39148</td>\n",
              "      <td>-1.1%</td>\n",
              "      <td>4.08%]</td>\n",
              "    </tr>\n",
              "    <tr>\n",
              "      <th>4</th>\n",
              "      <td>[19/11/2020</td>\n",
              "      <td>39376</td>\n",
              "      <td>+0.6%</td>\n",
              "      <td>4.21%]</td>\n",
              "    </tr>\n",
              "    <tr>\n",
              "      <th>5</th>\n",
              "      <td>[20/11/2020</td>\n",
              "      <td>39615</td>\n",
              "      <td>+0.6%</td>\n",
              "      <td>4.27%]</td>\n",
              "    </tr>\n",
              "    <tr>\n",
              "      <th>6</th>\n",
              "      <td>[21/11/2020</td>\n",
              "      <td>40130</td>\n",
              "      <td>+1.3%</td>\n",
              "      <td>4.25%]</td>\n",
              "    </tr>\n",
              "    <tr>\n",
              "      <th>7</th>\n",
              "      <td>[22/11/2020</td>\n",
              "      <td>42091</td>\n",
              "      <td>+4.9%</td>\n",
              "      <td>4.13%]</td>\n",
              "    </tr>\n",
              "    <tr>\n",
              "      <th>8</th>\n",
              "      <td>[23/11/2020</td>\n",
              "      <td>43352</td>\n",
              "      <td>+3.0%</td>\n",
              "      <td>4.41%]</td>\n",
              "    </tr>\n",
              "    <tr>\n",
              "      <th>9</th>\n",
              "      <td>[24/11/2020</td>\n",
              "      <td>44176</td>\n",
              "      <td>+1.9%</td>\n",
              "      <td>4.02%]</td>\n",
              "    </tr>\n",
              "  </tbody>\n",
              "</table>\n",
              "</div>"
            ],
            "text/plain": [
              "             0       1       2        3\n",
              "0           []    None    None     None\n",
              "1  [16/11/2020   40456   -2.9%   3.97%]\n",
              "2  [17/11/2020   39564   -2.2%   4.00%]\n",
              "3  [18/11/2020   39148   -1.1%   4.08%]\n",
              "4  [19/11/2020   39376   +0.6%   4.21%]\n",
              "5  [20/11/2020   39615   +0.6%   4.27%]\n",
              "6  [21/11/2020   40130   +1.3%   4.25%]\n",
              "7  [22/11/2020   42091   +4.9%   4.13%]\n",
              "8  [23/11/2020   43352   +3.0%   4.41%]\n",
              "9  [24/11/2020   44176   +1.9%   4.02%]"
            ]
          },
          "metadata": {
            "tags": []
          },
          "execution_count": 16
        }
      ]
    },
    {
      "cell_type": "code",
      "metadata": {
        "colab": {
          "base_uri": "https://localhost:8080/",
          "height": 343
        },
        "id": "R_Jx8PvEE_Y6",
        "outputId": "83fc22dd-c2f9-4eba-a16d-7cfd851ef907"
      },
      "source": [
        "df1[0] = df1[0].str.strip('[')\n",
        "df1.head(10)"
      ],
      "execution_count": 17,
      "outputs": [
        {
          "output_type": "execute_result",
          "data": {
            "text/html": [
              "<div>\n",
              "<style scoped>\n",
              "    .dataframe tbody tr th:only-of-type {\n",
              "        vertical-align: middle;\n",
              "    }\n",
              "\n",
              "    .dataframe tbody tr th {\n",
              "        vertical-align: top;\n",
              "    }\n",
              "\n",
              "    .dataframe thead th {\n",
              "        text-align: right;\n",
              "    }\n",
              "</style>\n",
              "<table border=\"1\" class=\"dataframe\">\n",
              "  <thead>\n",
              "    <tr style=\"text-align: right;\">\n",
              "      <th></th>\n",
              "      <th>0</th>\n",
              "      <th>1</th>\n",
              "      <th>2</th>\n",
              "      <th>3</th>\n",
              "    </tr>\n",
              "  </thead>\n",
              "  <tbody>\n",
              "    <tr>\n",
              "      <th>0</th>\n",
              "      <td>]</td>\n",
              "      <td>None</td>\n",
              "      <td>None</td>\n",
              "      <td>None</td>\n",
              "    </tr>\n",
              "    <tr>\n",
              "      <th>1</th>\n",
              "      <td>16/11/2020</td>\n",
              "      <td>40456</td>\n",
              "      <td>-2.9%</td>\n",
              "      <td>3.97%]</td>\n",
              "    </tr>\n",
              "    <tr>\n",
              "      <th>2</th>\n",
              "      <td>17/11/2020</td>\n",
              "      <td>39564</td>\n",
              "      <td>-2.2%</td>\n",
              "      <td>4.00%]</td>\n",
              "    </tr>\n",
              "    <tr>\n",
              "      <th>3</th>\n",
              "      <td>18/11/2020</td>\n",
              "      <td>39148</td>\n",
              "      <td>-1.1%</td>\n",
              "      <td>4.08%]</td>\n",
              "    </tr>\n",
              "    <tr>\n",
              "      <th>4</th>\n",
              "      <td>19/11/2020</td>\n",
              "      <td>39376</td>\n",
              "      <td>+0.6%</td>\n",
              "      <td>4.21%]</td>\n",
              "    </tr>\n",
              "    <tr>\n",
              "      <th>5</th>\n",
              "      <td>20/11/2020</td>\n",
              "      <td>39615</td>\n",
              "      <td>+0.6%</td>\n",
              "      <td>4.27%]</td>\n",
              "    </tr>\n",
              "    <tr>\n",
              "      <th>6</th>\n",
              "      <td>21/11/2020</td>\n",
              "      <td>40130</td>\n",
              "      <td>+1.3%</td>\n",
              "      <td>4.25%]</td>\n",
              "    </tr>\n",
              "    <tr>\n",
              "      <th>7</th>\n",
              "      <td>22/11/2020</td>\n",
              "      <td>42091</td>\n",
              "      <td>+4.9%</td>\n",
              "      <td>4.13%]</td>\n",
              "    </tr>\n",
              "    <tr>\n",
              "      <th>8</th>\n",
              "      <td>23/11/2020</td>\n",
              "      <td>43352</td>\n",
              "      <td>+3.0%</td>\n",
              "      <td>4.41%]</td>\n",
              "    </tr>\n",
              "    <tr>\n",
              "      <th>9</th>\n",
              "      <td>24/11/2020</td>\n",
              "      <td>44176</td>\n",
              "      <td>+1.9%</td>\n",
              "      <td>4.02%]</td>\n",
              "    </tr>\n",
              "  </tbody>\n",
              "</table>\n",
              "</div>"
            ],
            "text/plain": [
              "            0       1       2        3\n",
              "0           ]    None    None     None\n",
              "1  16/11/2020   40456   -2.9%   3.97%]\n",
              "2  17/11/2020   39564   -2.2%   4.00%]\n",
              "3  18/11/2020   39148   -1.1%   4.08%]\n",
              "4  19/11/2020   39376   +0.6%   4.21%]\n",
              "5  20/11/2020   39615   +0.6%   4.27%]\n",
              "6  21/11/2020   40130   +1.3%   4.25%]\n",
              "7  22/11/2020   42091   +4.9%   4.13%]\n",
              "8  23/11/2020   43352   +3.0%   4.41%]\n",
              "9  24/11/2020   44176   +1.9%   4.02%]"
            ]
          },
          "metadata": {
            "tags": []
          },
          "execution_count": 17
        }
      ]
    },
    {
      "cell_type": "code",
      "metadata": {
        "id": "0Nn-R_WhFCpp"
      },
      "source": [
        "col_labels = soup.find_all('th')"
      ],
      "execution_count": 18,
      "outputs": []
    },
    {
      "cell_type": "code",
      "metadata": {
        "colab": {
          "base_uri": "https://localhost:8080/"
        },
        "id": "6Woyi3IdFEio",
        "outputId": "a68f79af-dd19-4a8a-a38d-fd8e0299d570"
      },
      "source": [
        "all_header = []\n",
        "col_str = str(col_labels)\n",
        "cleantext2 = BeautifulSoup(col_str, \"lxml\").get_text()\n",
        "all_header.append(cleantext2)\n",
        "print(all_header)"
      ],
      "execution_count": 19,
      "outputs": [
        {
          "output_type": "stream",
          "text": [
            "['[Date, 7-day average, SDMA daily growth, TPR 7 day]']\n"
          ],
          "name": "stdout"
        }
      ]
    },
    {
      "cell_type": "code",
      "metadata": {
        "colab": {
          "base_uri": "https://localhost:8080/",
          "height": 77
        },
        "id": "z0EMWkBFFHXC",
        "outputId": "5c06a050-06e1-4074-d54e-c6ddff20ccbf"
      },
      "source": [
        "df2 = pd.DataFrame(all_header)\n",
        "df2.head()"
      ],
      "execution_count": 20,
      "outputs": [
        {
          "output_type": "execute_result",
          "data": {
            "text/html": [
              "<div>\n",
              "<style scoped>\n",
              "    .dataframe tbody tr th:only-of-type {\n",
              "        vertical-align: middle;\n",
              "    }\n",
              "\n",
              "    .dataframe tbody tr th {\n",
              "        vertical-align: top;\n",
              "    }\n",
              "\n",
              "    .dataframe thead th {\n",
              "        text-align: right;\n",
              "    }\n",
              "</style>\n",
              "<table border=\"1\" class=\"dataframe\">\n",
              "  <thead>\n",
              "    <tr style=\"text-align: right;\">\n",
              "      <th></th>\n",
              "      <th>0</th>\n",
              "    </tr>\n",
              "  </thead>\n",
              "  <tbody>\n",
              "    <tr>\n",
              "      <th>0</th>\n",
              "      <td>[Date, 7-day average, SDMA daily growth, TPR 7...</td>\n",
              "    </tr>\n",
              "  </tbody>\n",
              "</table>\n",
              "</div>"
            ],
            "text/plain": [
              "                                                   0\n",
              "0  [Date, 7-day average, SDMA daily growth, TPR 7..."
            ]
          },
          "metadata": {
            "tags": []
          },
          "execution_count": 20
        }
      ]
    },
    {
      "cell_type": "code",
      "metadata": {
        "colab": {
          "base_uri": "https://localhost:8080/",
          "height": 77
        },
        "id": "Df4CHJinFK37",
        "outputId": "56d47378-766d-407f-bf7a-7db15ae6731a"
      },
      "source": [
        "df3 = df2[0].str.split(',', expand=True)\n",
        "df3.head()"
      ],
      "execution_count": 21,
      "outputs": [
        {
          "output_type": "execute_result",
          "data": {
            "text/html": [
              "<div>\n",
              "<style scoped>\n",
              "    .dataframe tbody tr th:only-of-type {\n",
              "        vertical-align: middle;\n",
              "    }\n",
              "\n",
              "    .dataframe tbody tr th {\n",
              "        vertical-align: top;\n",
              "    }\n",
              "\n",
              "    .dataframe thead th {\n",
              "        text-align: right;\n",
              "    }\n",
              "</style>\n",
              "<table border=\"1\" class=\"dataframe\">\n",
              "  <thead>\n",
              "    <tr style=\"text-align: right;\">\n",
              "      <th></th>\n",
              "      <th>0</th>\n",
              "      <th>1</th>\n",
              "      <th>2</th>\n",
              "      <th>3</th>\n",
              "    </tr>\n",
              "  </thead>\n",
              "  <tbody>\n",
              "    <tr>\n",
              "      <th>0</th>\n",
              "      <td>[Date</td>\n",
              "      <td>7-day average</td>\n",
              "      <td>SDMA daily growth</td>\n",
              "      <td>TPR 7 day]</td>\n",
              "    </tr>\n",
              "  </tbody>\n",
              "</table>\n",
              "</div>"
            ],
            "text/plain": [
              "       0               1                   2            3\n",
              "0  [Date   7-day average   SDMA daily growth   TPR 7 day]"
            ]
          },
          "metadata": {
            "tags": []
          },
          "execution_count": 21
        }
      ]
    },
    {
      "cell_type": "code",
      "metadata": {
        "colab": {
          "base_uri": "https://localhost:8080/",
          "height": 343
        },
        "id": "Le6xVKQPFMwk",
        "outputId": "92ce83de-f2ae-4ba3-d978-d7ba94fed105"
      },
      "source": [
        "frames = [df3, df1]\n",
        "\n",
        "df4 = pd.concat(frames)\n",
        "df4.head(10)"
      ],
      "execution_count": 22,
      "outputs": [
        {
          "output_type": "execute_result",
          "data": {
            "text/html": [
              "<div>\n",
              "<style scoped>\n",
              "    .dataframe tbody tr th:only-of-type {\n",
              "        vertical-align: middle;\n",
              "    }\n",
              "\n",
              "    .dataframe tbody tr th {\n",
              "        vertical-align: top;\n",
              "    }\n",
              "\n",
              "    .dataframe thead th {\n",
              "        text-align: right;\n",
              "    }\n",
              "</style>\n",
              "<table border=\"1\" class=\"dataframe\">\n",
              "  <thead>\n",
              "    <tr style=\"text-align: right;\">\n",
              "      <th></th>\n",
              "      <th>0</th>\n",
              "      <th>1</th>\n",
              "      <th>2</th>\n",
              "      <th>3</th>\n",
              "    </tr>\n",
              "  </thead>\n",
              "  <tbody>\n",
              "    <tr>\n",
              "      <th>0</th>\n",
              "      <td>[Date</td>\n",
              "      <td>7-day average</td>\n",
              "      <td>SDMA daily growth</td>\n",
              "      <td>TPR 7 day]</td>\n",
              "    </tr>\n",
              "    <tr>\n",
              "      <th>0</th>\n",
              "      <td>]</td>\n",
              "      <td>None</td>\n",
              "      <td>None</td>\n",
              "      <td>None</td>\n",
              "    </tr>\n",
              "    <tr>\n",
              "      <th>1</th>\n",
              "      <td>16/11/2020</td>\n",
              "      <td>40456</td>\n",
              "      <td>-2.9%</td>\n",
              "      <td>3.97%]</td>\n",
              "    </tr>\n",
              "    <tr>\n",
              "      <th>2</th>\n",
              "      <td>17/11/2020</td>\n",
              "      <td>39564</td>\n",
              "      <td>-2.2%</td>\n",
              "      <td>4.00%]</td>\n",
              "    </tr>\n",
              "    <tr>\n",
              "      <th>3</th>\n",
              "      <td>18/11/2020</td>\n",
              "      <td>39148</td>\n",
              "      <td>-1.1%</td>\n",
              "      <td>4.08%]</td>\n",
              "    </tr>\n",
              "    <tr>\n",
              "      <th>4</th>\n",
              "      <td>19/11/2020</td>\n",
              "      <td>39376</td>\n",
              "      <td>+0.6%</td>\n",
              "      <td>4.21%]</td>\n",
              "    </tr>\n",
              "    <tr>\n",
              "      <th>5</th>\n",
              "      <td>20/11/2020</td>\n",
              "      <td>39615</td>\n",
              "      <td>+0.6%</td>\n",
              "      <td>4.27%]</td>\n",
              "    </tr>\n",
              "    <tr>\n",
              "      <th>6</th>\n",
              "      <td>21/11/2020</td>\n",
              "      <td>40130</td>\n",
              "      <td>+1.3%</td>\n",
              "      <td>4.25%]</td>\n",
              "    </tr>\n",
              "    <tr>\n",
              "      <th>7</th>\n",
              "      <td>22/11/2020</td>\n",
              "      <td>42091</td>\n",
              "      <td>+4.9%</td>\n",
              "      <td>4.13%]</td>\n",
              "    </tr>\n",
              "    <tr>\n",
              "      <th>8</th>\n",
              "      <td>23/11/2020</td>\n",
              "      <td>43352</td>\n",
              "      <td>+3.0%</td>\n",
              "      <td>4.41%]</td>\n",
              "    </tr>\n",
              "  </tbody>\n",
              "</table>\n",
              "</div>"
            ],
            "text/plain": [
              "            0               1                   2            3\n",
              "0       [Date   7-day average   SDMA daily growth   TPR 7 day]\n",
              "0           ]            None                None         None\n",
              "1  16/11/2020           40456               -2.9%       3.97%]\n",
              "2  17/11/2020           39564               -2.2%       4.00%]\n",
              "3  18/11/2020           39148               -1.1%       4.08%]\n",
              "4  19/11/2020           39376               +0.6%       4.21%]\n",
              "5  20/11/2020           39615               +0.6%       4.27%]\n",
              "6  21/11/2020           40130               +1.3%       4.25%]\n",
              "7  22/11/2020           42091               +4.9%       4.13%]\n",
              "8  23/11/2020           43352               +3.0%       4.41%]"
            ]
          },
          "metadata": {
            "tags": []
          },
          "execution_count": 22
        }
      ]
    },
    {
      "cell_type": "code",
      "metadata": {
        "colab": {
          "base_uri": "https://localhost:8080/",
          "height": 195
        },
        "id": "rAHTzXA3FQi3",
        "outputId": "6a483ef7-005c-46d2-ec47-e1e551789ba7"
      },
      "source": [
        "df5 = df4.rename(columns=df4.iloc[0])\n",
        "df5.head()"
      ],
      "execution_count": 23,
      "outputs": [
        {
          "output_type": "execute_result",
          "data": {
            "text/html": [
              "<div>\n",
              "<style scoped>\n",
              "    .dataframe tbody tr th:only-of-type {\n",
              "        vertical-align: middle;\n",
              "    }\n",
              "\n",
              "    .dataframe tbody tr th {\n",
              "        vertical-align: top;\n",
              "    }\n",
              "\n",
              "    .dataframe thead th {\n",
              "        text-align: right;\n",
              "    }\n",
              "</style>\n",
              "<table border=\"1\" class=\"dataframe\">\n",
              "  <thead>\n",
              "    <tr style=\"text-align: right;\">\n",
              "      <th></th>\n",
              "      <th>[Date</th>\n",
              "      <th>7-day average</th>\n",
              "      <th>SDMA daily growth</th>\n",
              "      <th>TPR 7 day]</th>\n",
              "    </tr>\n",
              "  </thead>\n",
              "  <tbody>\n",
              "    <tr>\n",
              "      <th>0</th>\n",
              "      <td>[Date</td>\n",
              "      <td>7-day average</td>\n",
              "      <td>SDMA daily growth</td>\n",
              "      <td>TPR 7 day]</td>\n",
              "    </tr>\n",
              "    <tr>\n",
              "      <th>0</th>\n",
              "      <td>]</td>\n",
              "      <td>None</td>\n",
              "      <td>None</td>\n",
              "      <td>None</td>\n",
              "    </tr>\n",
              "    <tr>\n",
              "      <th>1</th>\n",
              "      <td>16/11/2020</td>\n",
              "      <td>40456</td>\n",
              "      <td>-2.9%</td>\n",
              "      <td>3.97%]</td>\n",
              "    </tr>\n",
              "    <tr>\n",
              "      <th>2</th>\n",
              "      <td>17/11/2020</td>\n",
              "      <td>39564</td>\n",
              "      <td>-2.2%</td>\n",
              "      <td>4.00%]</td>\n",
              "    </tr>\n",
              "    <tr>\n",
              "      <th>3</th>\n",
              "      <td>18/11/2020</td>\n",
              "      <td>39148</td>\n",
              "      <td>-1.1%</td>\n",
              "      <td>4.08%]</td>\n",
              "    </tr>\n",
              "  </tbody>\n",
              "</table>\n",
              "</div>"
            ],
            "text/plain": [
              "        [Date   7-day average   SDMA daily growth   TPR 7 day]\n",
              "0       [Date   7-day average   SDMA daily growth   TPR 7 day]\n",
              "0           ]            None                None         None\n",
              "1  16/11/2020           40456               -2.9%       3.97%]\n",
              "2  17/11/2020           39564               -2.2%       4.00%]\n",
              "3  18/11/2020           39148               -1.1%       4.08%]"
            ]
          },
          "metadata": {
            "tags": []
          },
          "execution_count": 23
        }
      ]
    },
    {
      "cell_type": "code",
      "metadata": {
        "colab": {
          "base_uri": "https://localhost:8080/"
        },
        "id": "c_Jf6iCAFV7Q",
        "outputId": "71ac840f-595a-49d7-fec7-59501ac83aba"
      },
      "source": [
        "df5.info()\n",
        "df5.shape"
      ],
      "execution_count": 24,
      "outputs": [
        {
          "output_type": "stream",
          "text": [
            "<class 'pandas.core.frame.DataFrame'>\n",
            "Int64Index: 12 entries, 0 to 10\n",
            "Data columns (total 4 columns):\n",
            " #   Column              Non-Null Count  Dtype \n",
            "---  ------              --------------  ----- \n",
            " 0   [Date               12 non-null     object\n",
            " 1    7-day average      11 non-null     object\n",
            " 2    SDMA daily growth  11 non-null     object\n",
            " 3    TPR 7 day]         11 non-null     object\n",
            "dtypes: object(4)\n",
            "memory usage: 480.0+ bytes\n"
          ],
          "name": "stdout"
        },
        {
          "output_type": "execute_result",
          "data": {
            "text/plain": [
              "(12, 4)"
            ]
          },
          "metadata": {
            "tags": []
          },
          "execution_count": 24
        }
      ]
    },
    {
      "cell_type": "code",
      "metadata": {
        "id": "2m9O0kvOFcHL"
      },
      "source": [
        "df6 = df5.dropna(axis=0, how='any')"
      ],
      "execution_count": 25,
      "outputs": []
    },
    {
      "cell_type": "code",
      "metadata": {
        "colab": {
          "base_uri": "https://localhost:8080/",
          "height": 373
        },
        "id": "ZUlyMTCUFfkt",
        "outputId": "4883f033-2749-4ea7-d0a8-e6267d4d2dd9"
      },
      "source": [
        "df6"
      ],
      "execution_count": 26,
      "outputs": [
        {
          "output_type": "execute_result",
          "data": {
            "text/html": [
              "<div>\n",
              "<style scoped>\n",
              "    .dataframe tbody tr th:only-of-type {\n",
              "        vertical-align: middle;\n",
              "    }\n",
              "\n",
              "    .dataframe tbody tr th {\n",
              "        vertical-align: top;\n",
              "    }\n",
              "\n",
              "    .dataframe thead th {\n",
              "        text-align: right;\n",
              "    }\n",
              "</style>\n",
              "<table border=\"1\" class=\"dataframe\">\n",
              "  <thead>\n",
              "    <tr style=\"text-align: right;\">\n",
              "      <th></th>\n",
              "      <th>[Date</th>\n",
              "      <th>7-day average</th>\n",
              "      <th>SDMA daily growth</th>\n",
              "      <th>TPR 7 day]</th>\n",
              "    </tr>\n",
              "  </thead>\n",
              "  <tbody>\n",
              "    <tr>\n",
              "      <th>0</th>\n",
              "      <td>[Date</td>\n",
              "      <td>7-day average</td>\n",
              "      <td>SDMA daily growth</td>\n",
              "      <td>TPR 7 day]</td>\n",
              "    </tr>\n",
              "    <tr>\n",
              "      <th>1</th>\n",
              "      <td>16/11/2020</td>\n",
              "      <td>40456</td>\n",
              "      <td>-2.9%</td>\n",
              "      <td>3.97%]</td>\n",
              "    </tr>\n",
              "    <tr>\n",
              "      <th>2</th>\n",
              "      <td>17/11/2020</td>\n",
              "      <td>39564</td>\n",
              "      <td>-2.2%</td>\n",
              "      <td>4.00%]</td>\n",
              "    </tr>\n",
              "    <tr>\n",
              "      <th>3</th>\n",
              "      <td>18/11/2020</td>\n",
              "      <td>39148</td>\n",
              "      <td>-1.1%</td>\n",
              "      <td>4.08%]</td>\n",
              "    </tr>\n",
              "    <tr>\n",
              "      <th>4</th>\n",
              "      <td>19/11/2020</td>\n",
              "      <td>39376</td>\n",
              "      <td>+0.6%</td>\n",
              "      <td>4.21%]</td>\n",
              "    </tr>\n",
              "    <tr>\n",
              "      <th>5</th>\n",
              "      <td>20/11/2020</td>\n",
              "      <td>39615</td>\n",
              "      <td>+0.6%</td>\n",
              "      <td>4.27%]</td>\n",
              "    </tr>\n",
              "    <tr>\n",
              "      <th>6</th>\n",
              "      <td>21/11/2020</td>\n",
              "      <td>40130</td>\n",
              "      <td>+1.3%</td>\n",
              "      <td>4.25%]</td>\n",
              "    </tr>\n",
              "    <tr>\n",
              "      <th>7</th>\n",
              "      <td>22/11/2020</td>\n",
              "      <td>42091</td>\n",
              "      <td>+4.9%</td>\n",
              "      <td>4.13%]</td>\n",
              "    </tr>\n",
              "    <tr>\n",
              "      <th>8</th>\n",
              "      <td>23/11/2020</td>\n",
              "      <td>43352</td>\n",
              "      <td>+3.0%</td>\n",
              "      <td>4.41%]</td>\n",
              "    </tr>\n",
              "    <tr>\n",
              "      <th>9</th>\n",
              "      <td>24/11/2020</td>\n",
              "      <td>44176</td>\n",
              "      <td>+1.9%</td>\n",
              "      <td>4.02%]</td>\n",
              "    </tr>\n",
              "    <tr>\n",
              "      <th>10</th>\n",
              "      <td>25/11/2020</td>\n",
              "      <td>44080</td>\n",
              "      <td>-0.2%</td>\n",
              "      <td>3.86%]</td>\n",
              "    </tr>\n",
              "  </tbody>\n",
              "</table>\n",
              "</div>"
            ],
            "text/plain": [
              "         [Date   7-day average   SDMA daily growth   TPR 7 day]\n",
              "0        [Date   7-day average   SDMA daily growth   TPR 7 day]\n",
              "1   16/11/2020           40456               -2.9%       3.97%]\n",
              "2   17/11/2020           39564               -2.2%       4.00%]\n",
              "3   18/11/2020           39148               -1.1%       4.08%]\n",
              "4   19/11/2020           39376               +0.6%       4.21%]\n",
              "5   20/11/2020           39615               +0.6%       4.27%]\n",
              "6   21/11/2020           40130               +1.3%       4.25%]\n",
              "7   22/11/2020           42091               +4.9%       4.13%]\n",
              "8   23/11/2020           43352               +3.0%       4.41%]\n",
              "9   24/11/2020           44176               +1.9%       4.02%]\n",
              "10  25/11/2020           44080               -0.2%       3.86%]"
            ]
          },
          "metadata": {
            "tags": []
          },
          "execution_count": 26
        }
      ]
    },
    {
      "cell_type": "code",
      "metadata": {
        "colab": {
          "base_uri": "https://localhost:8080/",
          "height": 195
        },
        "id": "N5oXqbumFiKE",
        "outputId": "720af606-da49-49cf-d9a9-5e1bf5fe403e"
      },
      "source": [
        "df7 = df6.drop(df6.index[0])\n",
        "df7.head()"
      ],
      "execution_count": 27,
      "outputs": [
        {
          "output_type": "execute_result",
          "data": {
            "text/html": [
              "<div>\n",
              "<style scoped>\n",
              "    .dataframe tbody tr th:only-of-type {\n",
              "        vertical-align: middle;\n",
              "    }\n",
              "\n",
              "    .dataframe tbody tr th {\n",
              "        vertical-align: top;\n",
              "    }\n",
              "\n",
              "    .dataframe thead th {\n",
              "        text-align: right;\n",
              "    }\n",
              "</style>\n",
              "<table border=\"1\" class=\"dataframe\">\n",
              "  <thead>\n",
              "    <tr style=\"text-align: right;\">\n",
              "      <th></th>\n",
              "      <th>[Date</th>\n",
              "      <th>7-day average</th>\n",
              "      <th>SDMA daily growth</th>\n",
              "      <th>TPR 7 day]</th>\n",
              "    </tr>\n",
              "  </thead>\n",
              "  <tbody>\n",
              "    <tr>\n",
              "      <th>1</th>\n",
              "      <td>16/11/2020</td>\n",
              "      <td>40456</td>\n",
              "      <td>-2.9%</td>\n",
              "      <td>3.97%]</td>\n",
              "    </tr>\n",
              "    <tr>\n",
              "      <th>2</th>\n",
              "      <td>17/11/2020</td>\n",
              "      <td>39564</td>\n",
              "      <td>-2.2%</td>\n",
              "      <td>4.00%]</td>\n",
              "    </tr>\n",
              "    <tr>\n",
              "      <th>3</th>\n",
              "      <td>18/11/2020</td>\n",
              "      <td>39148</td>\n",
              "      <td>-1.1%</td>\n",
              "      <td>4.08%]</td>\n",
              "    </tr>\n",
              "    <tr>\n",
              "      <th>4</th>\n",
              "      <td>19/11/2020</td>\n",
              "      <td>39376</td>\n",
              "      <td>+0.6%</td>\n",
              "      <td>4.21%]</td>\n",
              "    </tr>\n",
              "    <tr>\n",
              "      <th>5</th>\n",
              "      <td>20/11/2020</td>\n",
              "      <td>39615</td>\n",
              "      <td>+0.6%</td>\n",
              "      <td>4.27%]</td>\n",
              "    </tr>\n",
              "  </tbody>\n",
              "</table>\n",
              "</div>"
            ],
            "text/plain": [
              "        [Date  7-day average  SDMA daily growth  TPR 7 day]\n",
              "1  16/11/2020          40456              -2.9%      3.97%]\n",
              "2  17/11/2020          39564              -2.2%      4.00%]\n",
              "3  18/11/2020          39148              -1.1%      4.08%]\n",
              "4  19/11/2020          39376              +0.6%      4.21%]\n",
              "5  20/11/2020          39615              +0.6%      4.27%]"
            ]
          },
          "metadata": {
            "tags": []
          },
          "execution_count": 27
        }
      ]
    },
    {
      "cell_type": "code",
      "metadata": {
        "colab": {
          "base_uri": "https://localhost:8080/",
          "height": 195
        },
        "id": "uCzcEumbFnDs",
        "outputId": "9a2f35da-35d5-4541-c8cb-514d18a640f2"
      },
      "source": [
        "df7.rename(columns={'[Date': 'Date'},inplace=True)\n",
        "df7.rename(columns={' TPR 7 day]': 'TPR 7 day'},inplace=True)\n",
        "df7.head()"
      ],
      "execution_count": 29,
      "outputs": [
        {
          "output_type": "execute_result",
          "data": {
            "text/html": [
              "<div>\n",
              "<style scoped>\n",
              "    .dataframe tbody tr th:only-of-type {\n",
              "        vertical-align: middle;\n",
              "    }\n",
              "\n",
              "    .dataframe tbody tr th {\n",
              "        vertical-align: top;\n",
              "    }\n",
              "\n",
              "    .dataframe thead th {\n",
              "        text-align: right;\n",
              "    }\n",
              "</style>\n",
              "<table border=\"1\" class=\"dataframe\">\n",
              "  <thead>\n",
              "    <tr style=\"text-align: right;\">\n",
              "      <th></th>\n",
              "      <th>Date</th>\n",
              "      <th>7-day average</th>\n",
              "      <th>SDMA daily growth</th>\n",
              "      <th>TPR 7 day</th>\n",
              "    </tr>\n",
              "  </thead>\n",
              "  <tbody>\n",
              "    <tr>\n",
              "      <th>1</th>\n",
              "      <td>16/11/2020</td>\n",
              "      <td>40456</td>\n",
              "      <td>-2.9%</td>\n",
              "      <td>3.97%]</td>\n",
              "    </tr>\n",
              "    <tr>\n",
              "      <th>2</th>\n",
              "      <td>17/11/2020</td>\n",
              "      <td>39564</td>\n",
              "      <td>-2.2%</td>\n",
              "      <td>4.00%]</td>\n",
              "    </tr>\n",
              "    <tr>\n",
              "      <th>3</th>\n",
              "      <td>18/11/2020</td>\n",
              "      <td>39148</td>\n",
              "      <td>-1.1%</td>\n",
              "      <td>4.08%]</td>\n",
              "    </tr>\n",
              "    <tr>\n",
              "      <th>4</th>\n",
              "      <td>19/11/2020</td>\n",
              "      <td>39376</td>\n",
              "      <td>+0.6%</td>\n",
              "      <td>4.21%]</td>\n",
              "    </tr>\n",
              "    <tr>\n",
              "      <th>5</th>\n",
              "      <td>20/11/2020</td>\n",
              "      <td>39615</td>\n",
              "      <td>+0.6%</td>\n",
              "      <td>4.27%]</td>\n",
              "    </tr>\n",
              "  </tbody>\n",
              "</table>\n",
              "</div>"
            ],
            "text/plain": [
              "         Date  7-day average  SDMA daily growth TPR 7 day\n",
              "1  16/11/2020          40456              -2.9%    3.97%]\n",
              "2  17/11/2020          39564              -2.2%    4.00%]\n",
              "3  18/11/2020          39148              -1.1%    4.08%]\n",
              "4  19/11/2020          39376              +0.6%    4.21%]\n",
              "5  20/11/2020          39615              +0.6%    4.27%]"
            ]
          },
          "metadata": {
            "tags": []
          },
          "execution_count": 29
        }
      ]
    },
    {
      "cell_type": "code",
      "metadata": {
        "colab": {
          "base_uri": "https://localhost:8080/",
          "height": 195
        },
        "id": "bo6YUxWcFpeb",
        "outputId": "91c5181a-3905-435a-a35e-31e526c9d148"
      },
      "source": [
        "df7['TPR 7 day'] = df7['TPR 7 day'].str.strip(']')\n",
        "df7.head()"
      ],
      "execution_count": 31,
      "outputs": [
        {
          "output_type": "execute_result",
          "data": {
            "text/html": [
              "<div>\n",
              "<style scoped>\n",
              "    .dataframe tbody tr th:only-of-type {\n",
              "        vertical-align: middle;\n",
              "    }\n",
              "\n",
              "    .dataframe tbody tr th {\n",
              "        vertical-align: top;\n",
              "    }\n",
              "\n",
              "    .dataframe thead th {\n",
              "        text-align: right;\n",
              "    }\n",
              "</style>\n",
              "<table border=\"1\" class=\"dataframe\">\n",
              "  <thead>\n",
              "    <tr style=\"text-align: right;\">\n",
              "      <th></th>\n",
              "      <th>Date</th>\n",
              "      <th>7-day average</th>\n",
              "      <th>SDMA daily growth</th>\n",
              "      <th>TPR 7 day</th>\n",
              "    </tr>\n",
              "  </thead>\n",
              "  <tbody>\n",
              "    <tr>\n",
              "      <th>1</th>\n",
              "      <td>16/11/2020</td>\n",
              "      <td>40456</td>\n",
              "      <td>-2.9%</td>\n",
              "      <td>3.97%</td>\n",
              "    </tr>\n",
              "    <tr>\n",
              "      <th>2</th>\n",
              "      <td>17/11/2020</td>\n",
              "      <td>39564</td>\n",
              "      <td>-2.2%</td>\n",
              "      <td>4.00%</td>\n",
              "    </tr>\n",
              "    <tr>\n",
              "      <th>3</th>\n",
              "      <td>18/11/2020</td>\n",
              "      <td>39148</td>\n",
              "      <td>-1.1%</td>\n",
              "      <td>4.08%</td>\n",
              "    </tr>\n",
              "    <tr>\n",
              "      <th>4</th>\n",
              "      <td>19/11/2020</td>\n",
              "      <td>39376</td>\n",
              "      <td>+0.6%</td>\n",
              "      <td>4.21%</td>\n",
              "    </tr>\n",
              "    <tr>\n",
              "      <th>5</th>\n",
              "      <td>20/11/2020</td>\n",
              "      <td>39615</td>\n",
              "      <td>+0.6%</td>\n",
              "      <td>4.27%</td>\n",
              "    </tr>\n",
              "  </tbody>\n",
              "</table>\n",
              "</div>"
            ],
            "text/plain": [
              "         Date  7-day average  SDMA daily growth TPR 7 day\n",
              "1  16/11/2020          40456              -2.9%     3.97%\n",
              "2  17/11/2020          39564              -2.2%     4.00%\n",
              "3  18/11/2020          39148              -1.1%     4.08%\n",
              "4  19/11/2020          39376              +0.6%     4.21%\n",
              "5  20/11/2020          39615              +0.6%     4.27%"
            ]
          },
          "metadata": {
            "tags": []
          },
          "execution_count": 31
        }
      ]
    },
    {
      "cell_type": "code",
      "metadata": {
        "id": "N3Dfd2WbF6Nc"
      },
      "source": [
        ""
      ],
      "execution_count": null,
      "outputs": []
    }
  ]
}