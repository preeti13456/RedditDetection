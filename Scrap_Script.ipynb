{
  "nbformat": 4,
  "nbformat_minor": 0,
  "metadata": {
    "colab": {
      "name": "Scrap_Script.ipynb",
      "provenance": [],
      "collapsed_sections": [],
      "authorship_tag": "ABX9TyOtkbjWfkFVcQVsitrJabmN",
      "include_colab_link": true
    },
    "kernelspec": {
      "name": "python3",
      "display_name": "Python 3"
    }
  },
  "cells": [
    {
      "cell_type": "markdown",
      "metadata": {
        "id": "view-in-github",
        "colab_type": "text"
      },
      "source": [
        "<a href=\"https://colab.research.google.com/github/preeti13456/RedditDetection/blob/main/Scrap_Script.ipynb\" target=\"_parent\"><img src=\"https://colab.research.google.com/assets/colab-badge.svg\" alt=\"Open In Colab\"/></a>"
      ]
    },
    {
      "cell_type": "code",
      "metadata": {
        "colab": {
          "base_uri": "https://localhost:8080/"
        },
        "id": "7KuzTXOMlKvM",
        "outputId": "f06cac09-0565-40a3-b97c-bf57530d9e25"
      },
      "source": [
        "!pip install requests\n",
        "!pip install beautifulsoup4"
      ],
      "execution_count": null,
      "outputs": [
        {
          "output_type": "stream",
          "text": [
            "Requirement already satisfied: requests in /usr/local/lib/python3.6/dist-packages (2.23.0)\n",
            "Requirement already satisfied: urllib3!=1.25.0,!=1.25.1,<1.26,>=1.21.1 in /usr/local/lib/python3.6/dist-packages (from requests) (1.24.3)\n",
            "Requirement already satisfied: certifi>=2017.4.17 in /usr/local/lib/python3.6/dist-packages (from requests) (2020.11.8)\n",
            "Requirement already satisfied: chardet<4,>=3.0.2 in /usr/local/lib/python3.6/dist-packages (from requests) (3.0.4)\n",
            "Requirement already satisfied: idna<3,>=2.5 in /usr/local/lib/python3.6/dist-packages (from requests) (2.10)\n",
            "Requirement already satisfied: beautifulsoup4 in /usr/local/lib/python3.6/dist-packages (4.6.3)\n"
          ],
          "name": "stdout"
        }
      ]
    },
    {
      "cell_type": "code",
      "metadata": {
        "id": "Qz70CRnLlW9i"
      },
      "source": [
        "import pandas as pd\n",
        "import numpy as np\n",
        "import requests\n",
        "from bs4 import BeautifulSoup"
      ],
      "execution_count": null,
      "outputs": []
    },
    {
      "cell_type": "code",
      "metadata": {
        "id": "_aDrqc5jli6t"
      },
      "source": [
        "website='https://www.reddit.com/r/india/comments/jj8aog/coronavirus_covid19_megathread_news_and_updates_7/'\n",
        "website_url=requests.get(website).text\n",
        "soup = BeautifulSoup(website_url,'html.parser')"
      ],
      "execution_count": 36,
      "outputs": []
    },
    {
      "cell_type": "code",
      "metadata": {
        "id": "TXEuA44LmDAf"
      },
      "source": [
        "my_table = soup.find_all('thead')"
      ],
      "execution_count": 83,
      "outputs": []
    },
    {
      "cell_type": "code",
      "metadata": {
        "id": "p-DN3JlGmPS-"
      },
      "source": [
        "table_data = []\n",
        "for row in my_table:\n",
        "    row_data = []\n",
        "    #row_data = row.find('tr')\n",
        "    for cell in row.findAll('th'):\n",
        "        row_data.append(cell.text)\n",
        "    if(len(row_data) > 0):\n",
        "        data_item = {\"Date\": row_data[0],                # Date\t7-day average\tSDMA daily growth\tTPR 7 day\n",
        "                     \"7-day average\": row_data[1],\n",
        "                     \"SDMA daily growth\": row_data[2],\n",
        "                     \"TPR 7 day\": row_data[3],\n",
        "                     \n",
        "        }\n",
        "        table_data.append(data_item)"
      ],
      "execution_count": 89,
      "outputs": []
    },
    {
      "cell_type": "code",
      "metadata": {
        "id": "ODiFna2lmXNk"
      },
      "source": [
        "df = pd.DataFrame(table_data)"
      ],
      "execution_count": 90,
      "outputs": []
    },
    {
      "cell_type": "code",
      "metadata": {
        "colab": {
          "base_uri": "https://localhost:8080/"
        },
        "id": "DH8zhmujo_N9",
        "outputId": "fe2f585c-8a7a-42c6-a853-f457bad37da8"
      },
      "source": [
        "df.dtypes"
      ],
      "execution_count": 91,
      "outputs": [
        {
          "output_type": "execute_result",
          "data": {
            "text/plain": [
              "Date                 object\n",
              "7-day average        object\n",
              "SDMA daily growth    object\n",
              "TPR 7 day            object\n",
              "dtype: object"
            ]
          },
          "metadata": {
            "tags": []
          },
          "execution_count": 91
        }
      ]
    },
    {
      "cell_type": "code",
      "metadata": {
        "id": "AEm_MZZbpATM"
      },
      "source": [
        "df.to_excel('Seven day case average and TPR_data.xlsx', index=True)\n"
      ],
      "execution_count": 92,
      "outputs": []
    },
    {
      "cell_type": "code",
      "metadata": {
        "colab": {
          "base_uri": "https://localhost:8080/",
          "height": 106
        },
        "id": "HZ8uM_jtuwL-",
        "outputId": "d05a0335-7d36-44d2-ba1d-56f21096e8fa"
      },
      "source": [
        "df"
      ],
      "execution_count": 93,
      "outputs": [
        {
          "output_type": "execute_result",
          "data": {
            "text/html": [
              "<div>\n",
              "<style scoped>\n",
              "    .dataframe tbody tr th:only-of-type {\n",
              "        vertical-align: middle;\n",
              "    }\n",
              "\n",
              "    .dataframe tbody tr th {\n",
              "        vertical-align: top;\n",
              "    }\n",
              "\n",
              "    .dataframe thead th {\n",
              "        text-align: right;\n",
              "    }\n",
              "</style>\n",
              "<table border=\"1\" class=\"dataframe\">\n",
              "  <thead>\n",
              "    <tr style=\"text-align: right;\">\n",
              "      <th></th>\n",
              "      <th>Date</th>\n",
              "      <th>7-day average</th>\n",
              "      <th>SDMA daily growth</th>\n",
              "      <th>TPR 7 day</th>\n",
              "    </tr>\n",
              "  </thead>\n",
              "  <tbody>\n",
              "    <tr>\n",
              "      <th>0</th>\n",
              "      <td>Date</td>\n",
              "      <td>7-day average</td>\n",
              "      <td>SDMA daily growth</td>\n",
              "      <td>TPR 7 day</td>\n",
              "    </tr>\n",
              "    <tr>\n",
              "      <th>1</th>\n",
              "      <td>Date</td>\n",
              "      <td>7-day average</td>\n",
              "      <td>SDMA daily growth</td>\n",
              "      <td>TPR 7 day</td>\n",
              "    </tr>\n",
              "  </tbody>\n",
              "</table>\n",
              "</div>"
            ],
            "text/plain": [
              "   Date  7-day average  SDMA daily growth  TPR 7 day\n",
              "0  Date  7-day average  SDMA daily growth  TPR 7 day\n",
              "1  Date  7-day average  SDMA daily growth  TPR 7 day"
            ]
          },
          "metadata": {
            "tags": []
          },
          "execution_count": 93
        }
      ]
    },
    {
      "cell_type": "code",
      "metadata": {
        "id": "k3rxRjKtvQK0"
      },
      "source": [
        ""
      ],
      "execution_count": null,
      "outputs": []
    }
  ]
}